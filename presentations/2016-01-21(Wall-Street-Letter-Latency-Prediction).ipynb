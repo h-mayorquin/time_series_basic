{
 "cells": [
  {
   "cell_type": "markdown",
   "metadata": {},
   "source": [
    "# Prediction of text with Nexa. Letter Latency.\n",
    "This notbook is for seeing how much the delay between the code vector and the code is related to the accuaracy of the prediciton."
   ]
  },
  {
   "cell_type": "code",
   "execution_count": 1,
   "metadata": {
    "collapsed": true
   },
   "outputs": [],
   "source": [
    "import numpy as np\n",
    "import h5py\n",
    "from sklearn import svm, cross_validation\n",
    "from sklearn.naive_bayes import MultinomialNB"
   ]
  },
  {
   "cell_type": "markdown",
   "metadata": {},
   "source": [
    "### Load the data"
   ]
  },
  {
   "cell_type": "code",
   "execution_count": 3,
   "metadata": {
    "collapsed": false
   },
   "outputs": [],
   "source": [
    "# First we load the file \n",
    "file_location = '../results_database/text_wall_street_big.hdf5'\n",
    "f = h5py.File(file_location, 'r')\n",
    "\n",
    "# Now we need to get the letters and align them\n",
    "text_directory = '../data/wall_street_letters.npy'\n",
    "letters_sequence = np.load(text_directory)\n",
    "Nletters = len(letters_sequence)\n",
    "symbols = set(letters_sequence)\n",
    "\n",
    "# Load the particular example\n",
    "Nspatial_clusters = 5\n",
    "Ntime_clusters = 15\n",
    "Nembedding = 3\n",
    "\n",
    "run_name = '/low-resolution'\n",
    "parameters_string = '/' + str(Nspatial_clusters)\n",
    "parameters_string += '-' + str(Ntime_clusters)\n",
    "parameters_string += '-' + str(Nembedding)\n",
    "\n",
    "nexa = f[run_name + parameters_string]\n",
    "\n",
    "# Now we load the time and the code vectors\n",
    "time = nexa['time']\n",
    "code_vectors = nexa['code-vectors']\n",
    "code_vectors_distance = nexa['code-vectors-distance']\n",
    "code_vectors_softmax = nexa['code-vectors-softmax']\n",
    "code_vectors_winner = nexa['code-vectors-winner']"
   ]
  },
  {
   "cell_type": "markdown",
   "metadata": {},
   "source": [
    "### Make the predictions\n"
   ]
  },
  {
   "cell_type": "code",
   "execution_count": 10,
   "metadata": {
    "collapsed": true
   },
   "outputs": [],
   "source": [
    "delays = np.arange(0, 20)\n",
    "accuracy = []"
   ]
  },
  {
   "cell_type": "markdown",
   "metadata": {},
   "source": [
    "Make the prediction for each delay. This **takes a bit**"
   ]
  },
  {
   "cell_type": "code",
   "execution_count": 11,
   "metadata": {
    "collapsed": false
   },
   "outputs": [],
   "source": [
    "N = 50000  # Amount of data\n",
    "delays = np.arange(0, 10)\n",
    "accuracy = []\n",
    "\n",
    "# Make prediction with scikit-learn\n",
    "for delay in delays:\n",
    "    X = code_vectors_winner[:(N - delay)]\n",
    "    y = letters_sequence[delay:N]\n",
    "    X_train, X_test, y_train, y_test = cross_validation.train_test_split(X, y, test_size=0.10)\n",
    "\n",
    "    clf = svm.SVC(C=1.0, cache_size=200, kernel='linear')\n",
    "    clf.fit(X_train, y_train)\n",
    "    score = clf.score(X_test, y_test) * 100.0\n",
    "    accuracy.append(score)\n",
    "    print('delay', delay)\n",
    "    print('score', score)\n",
    "\n"
   ]
  },
  {
   "cell_type": "markdown",
   "metadata": {},
   "source": [
    "# Plot it"
   ]
  },
  {
   "cell_type": "code",
   "execution_count": 15,
   "metadata": {
    "collapsed": false
   },
   "outputs": [
    {
     "data": {
      "image/png": "[encoded data removed]",
      "text/plain": [
       "<matplotlib.figure.Figure at 0x7f60af788048>"
      ]
     },
     "metadata": {},
     "output_type": "display_data"
    }
   ],
   "source": [
    "import matplotlib.pyplot as plt\n",
    "import seaborn as sns\n",
    "%matplotlib inline\n",
    "\n",
    "# Plot this\n",
    "import matplotlib.pyplot as plt\n",
    "import seaborn as sns\n",
    "%matplotlib inline\n",
    "plt.plot(delays, accuracy, 'o-', lw=2, markersize=10)\n",
    "plt.xlabel('Delays')\n",
    "plt.ylim([0, 105])\n",
    "plt.xlim([-0.5, 10])\n",
    "plt.ylabel('Accuracy %')\n",
    "plt.title('Delays vs Accuracy')\n",
    "fig = plt.gcf()\n",
    "fig.set_size_inches((12, 9))"
   ]
  },
  {
   "cell_type": "code",
   "execution_count": null,
   "metadata": {
    "collapsed": true
   },
   "outputs": [],
   "source": []
  }
 ],
 "metadata": {
  "kernelspec": {
   "display_name": "Python 3",
   "language": "python",
   "name": "python3"
  },
  "language_info": {
   "codemirror_mode": {
    "name": "ipython",
    "version": 3
   },
   "file_extension": ".py",
   "mimetype": "text/x-python",
   "name": "python",
   "nbconvert_exporter": "python",
   "pygments_lexer": "ipython3",
   "version": "3.5.1"
  }
 },
 "nbformat": 4,
 "nbformat_minor": 0
}
