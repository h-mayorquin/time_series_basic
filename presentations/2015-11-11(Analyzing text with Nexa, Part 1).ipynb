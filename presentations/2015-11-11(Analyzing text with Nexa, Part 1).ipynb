{
 "cells": [
  {
   "cell_type": "markdown",
   "metadata": {},
   "source": [
    "# Analyzing text with Nexa\n",
    "This is an analysis of the text from the financial times with the nexa framework. Here we apply the nexa machinery to it"
   ]
  },
  {
   "cell_type": "code",
   "execution_count": 1,
   "metadata": {
    "collapsed": false
   },
   "outputs": [
    {
     "name": "stderr",
     "output_type": "stream",
     "text": [
      "/home/heberto/miniconda/envs/nexa/lib/python3.5/site-packages/sklearn/utils/fixes.py:64: DeprecationWarning: inspect.getargspec() is deprecated, use inspect.signature() instead\n",
      "  if 'order' in inspect.getargspec(np.copy)[0]:\n"
     ]
    }
   ],
   "source": [
    "import numpy as np\n",
    "import matplotlib.pyplot as plt\n",
    "import seaborn as sns\n",
    "import h5py\n",
    "import IPython\n",
    "\n",
    "import sys\n",
    "sys.path.append('../')\n",
    "\n",
    "from inputs.sensors import Sensor, PerceptualSpace\n",
    "from inputs.lag_structure import LagStructure\n",
    "from nexa.nexa import Nexa# First we have to load the signal\n"
   ]
  },
  {
   "cell_type": "markdown",
   "metadata": {},
   "source": [
    "### Extract the Data\n",
    "Now we extract the signal"
   ]
  },
  {
   "cell_type": "code",
   "execution_count": 2,
   "metadata": {
    "collapsed": true
   },
   "outputs": [],
   "source": [
    "signal_location = '../data/wall_street_data_small.hdf5'\n",
    "\n",
    "# Access the data and load it into signal\n",
    "with h5py.File(signal_location, 'r') as f:\n",
    "    dset = f['signal']\n",
    "    signals = np.empty(dset.shape, np.float)\n",
    "    dset.read_direct(signals)"
   ]
  },
  {
   "cell_type": "markdown",
   "metadata": {},
   "source": [
    "Reshape the data for our purposes and take a piece of it"
   ]
  },
  {
   "cell_type": "code",
   "execution_count": 3,
   "metadata": {
    "collapsed": false
   },
   "outputs": [
    {
     "name": "stdout",
     "output_type": "stream",
     "text": [
      "zeros 0\n",
      "signals shape (544270, 400)\n"
     ]
    }
   ],
   "source": [
    "# Reshape the data and limit it\n",
    "Ndata = 10000\n",
    "signals = signals.reshape(signals.shape[0], signals.shape[1] * signals.shape[2])\n",
    "# signals = signals[:Ndata, ...].astype('float')\n",
    "signals += np.random.uniform(size=signals.shape)\n",
    "print('zeros', np.sum(signals[0] == 0))\n",
    "print('signals shape', signals.shape)"
   ]
  },
  {
   "cell_type": "markdown",
   "metadata": {},
   "source": [
    "### Perceptual Space"
   ]
  },
  {
   "cell_type": "code",
   "execution_count": 6,
   "metadata": {
    "collapsed": true
   },
   "outputs": [],
   "source": [
    "dt = 1.0\n",
    "lag_times = np.arange(0, 10, 1)\n",
    "window_size = signals.shape[0] - (lag_times[-1] + 1)\n",
    "weights = None\n",
    "\n",
    "lag_structure = LagStructure(lag_times=lag_times, weights=weights, window_size=window_size)\n",
    "sensors = [Sensor(signal, dt, lag_structure) for signal in signals.T]\n",
    "perceptual_space = PerceptualSpace(sensors, lag_first=True)"
   ]
  },
  {
   "cell_type": "markdown",
   "metadata": {},
   "source": [
    "### Nexa Machinery"
   ]
  },
  {
   "cell_type": "code",
   "execution_count": 7,
   "metadata": {
    "collapsed": false
   },
   "outputs": [],
   "source": [
    "# Get the nexa machinery right\n",
    "Nspatial_clusters = 3\n",
    "Ntime_clusters = 4\n",
    "Nembedding = 2\n",
    "\n",
    "nexa_object = Nexa(perceptual_space, Nspatial_clusters, Ntime_clusters, Nembedding)"
   ]
  },
  {
   "cell_type": "code",
   "execution_count": 8,
   "metadata": {
    "collapsed": false
   },
   "outputs": [
    {
     "data": {
      "text/plain": [
       "array(1280726.876015866)"
      ]
     },
     "execution_count": 8,
     "metadata": {},
     "output_type": "execute_result"
    }
   ],
   "source": [
    "# Now we calculate the distance matrix\n",
    "nexa_object.calculate_distance_matrix()\n",
    "nexa_object.calculate_embedding()"
   ]
  },
  {
   "cell_type": "code",
   "execution_count": 11,
   "metadata": {
    "collapsed": true
   },
   "outputs": [],
   "source": [
    "# Now we calculate the clustering\n",
    "nexa_object.calculate_spatial_clustering()"
   ]
  },
  {
   "cell_type": "code",
   "execution_count": 17,
   "metadata": {
    "collapsed": true
   },
   "outputs": [],
   "source": [
    "# We calculate the cluster to index\n",
    "nexa_object.calculate_cluster_to_indexes()"
   ]
  },
  {
   "cell_type": "code",
   "execution_count": null,
   "metadata": {
    "collapsed": false
   },
   "outputs": [],
   "source": [
    "# Data clusters\n",
    "nexa_object.calculate_time_clusters()"
   ]
  },
  {
   "cell_type": "code",
   "execution_count": null,
   "metadata": {
    "collapsed": true
   },
   "outputs": [],
   "source": []
  }
 ],
 "metadata": {
  "kernelspec": {
   "display_name": "Python 3",
   "language": "python",
   "name": "python3"
  },
  "language_info": {
   "codemirror_mode": {
    "name": "ipython",
    "version": 3
   },
   "file_extension": ".py",
   "mimetype": "text/x-python",
   "name": "python",
   "nbconvert_exporter": "python",
   "pygments_lexer": "ipython3",
   "version": "3.5.0"
  }
 },
 "nbformat": 4,
 "nbformat_minor": 0
}
