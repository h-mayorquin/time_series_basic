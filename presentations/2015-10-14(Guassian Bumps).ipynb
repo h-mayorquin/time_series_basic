{
 "cells": [
  {
   "cell_type": "markdown",
   "metadata": {},
   "source": [
    "# Now an exploration with Gaussian bumps"
   ]
  },
  {
   "cell_type": "code",
   "execution_count": 1,
   "metadata": {
    "collapsed": false
   },
   "outputs": [],
   "source": [
    "import numpy as np\n",
    "import matplotlib.pyplot as plt\n",
    "import seaborn as sns\n",
    "\n",
    "# Plot inline\n",
    "%matplotlib inline\n",
    "\n",
    "# Add the proper path\n",
    "import sys\n",
    "sys.path.append(\"../\")\n",
    "\n",
    "# Local libraries\n",
    "from signals.aux_functions import gaussian_bump\n",
    "from inputs.sensors import Sensor, PerceptualSpace\n",
    "from inputs.lag_structure import LagStructure\n",
    "\n",
    "# Widgets library\n",
    "from ipywidgets import interact"
   ]
  },
  {
   "cell_type": "code",
   "execution_count": 2,
   "metadata": {
    "collapsed": true
   },
   "outputs": [],
   "source": [
    "Tmax = 1000\n",
    "dt = 1.0\n",
    "time = np.arange(0, Tmax, dt)\n"
   ]
  },
  {
   "cell_type": "code",
   "execution_count": 3,
   "metadata": {
    "collapsed": true
   },
   "outputs": [],
   "source": [
    "mean = 50\n",
    "max_rate = 100\n",
    "baseline = 20\n",
    "HWHM = 20\n",
    "attenuation = 2\n"
   ]
  },
  {
   "cell_type": "markdown",
   "metadata": {},
   "source": [
    "### First a show case of the gaussian bump"
   ]
  },
  {
   "cell_type": "code",
   "execution_count": 4,
   "metadata": {
    "collapsed": true
   },
   "outputs": [],
   "source": [
    "def plot_gaussian_bump(mu):\n",
    "    plt.plot(time, gaussian_bump(time, mu, max_rate, baseline, HWHM, attenuation))\n",
    "    plt.ylim([0, max_rate])\n",
    "    "
   ]
  },
  {
   "cell_type": "code",
   "execution_count": 5,
   "metadata": {
    "collapsed": false
   },
   "outputs": [
    {
     "data": {
      "image/png": "[encoded data removed]",
      "text/plain": [
       "<matplotlib.figure.Figure at 0x7f06d3a3ba20>"
      ]
     },
     "metadata": {},
     "output_type": "display_data"
    }
   ],
   "source": [
    "plot_gaussian_bump(mean)"
   ]
  },
  {
   "cell_type": "code",
   "execution_count": 7,
   "metadata": {
    "collapsed": false
   },
   "outputs": [
    {
     "data": {
      "image/png": "[encoded data removed]",
      "text/plain": [
       "<matplotlib.figure.Figure at 0x7f06d13175c0>"
      ]
     },
     "metadata": {},
     "output_type": "display_data"
    }
   ],
   "source": [
    "interact(plot_gaussian_bump, mu=(20, 300, 10))"
   ]
  },
  {
   "cell_type": "code",
   "execution_count": null,
   "metadata": {
    "collapsed": true
   },
   "outputs": [],
   "source": [
    "def plot_gaussian_bump2(mu, Max, base, value, a):\n",
    "    plt.plot(time, gaussian_bump(time, mu, Max, base, value, a))\n",
    "    plt.ylim([0, 120])"
   ]
  },
  {
   "cell_type": "code",
   "execution_count": null,
   "metadata": {
    "collapsed": false
   },
   "outputs": [],
   "source": [
    "interact(plot_gaussian_bump2, mu=(100, 500), Max=(50, 100), \n",
    "         base=(0, 20), value=(10, 20), a=(2, 5))"
   ]
  },
  {
   "cell_type": "code",
   "execution_count": null,
   "metadata": {
    "collapsed": true
   },
   "outputs": [],
   "source": []
  }
 ],
 "metadata": {
  "kernelspec": {
   "display_name": "Python 3",
   "language": "python",
   "name": "python3"
  },
  "language_info": {
   "codemirror_mode": {
    "name": "ipython",
    "version": 3
   },
   "file_extension": ".py",
   "mimetype": "text/x-python",
   "name": "python",
   "nbconvert_exporter": "python",
   "pygments_lexer": "ipython3",
   "version": "3.5.0"
  }
 },
 "nbformat": 4,
 "nbformat_minor": 0
}
