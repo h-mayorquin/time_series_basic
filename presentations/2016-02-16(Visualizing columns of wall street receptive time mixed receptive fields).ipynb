{
 "cells": [
  {
   "cell_type": "markdown",
   "metadata": {},
   "source": [
    "# Visualizing receptive Fields for Columns in Wall Street\n",
    "In this notebook we visualize how the receptive fields of the Wall Street problem look when we use mixing in time. That is, when we allow the receptive field formation to actually cluster across time units in the inputs"
   ]
  },
  {
   "cell_type": "code",
   "execution_count": 1,
   "metadata": {
    "collapsed": false
   },
   "outputs": [
    {
     "data": {
      "text/plain": [
       "<matplotlib.image.AxesImage at 0x7f4dc959a978>"
      ]
     },
     "execution_count": 1,
     "metadata": {},
     "output_type": "execute_result"
    },
    {
     "data": {
      "image/png": "[encoded data removed]",
      "text/plain": [
       "<matplotlib.figure.Figure at 0x7f4df0001710>"
      ]
     },
     "metadata": {},
     "output_type": "display_data"
    }
   ],
   "source": [
    " \n",
    "\n",
    "# First we load the file \n",
    "file_location = '../results_database/text_wall_street_columns.hdf5'\n",
    "run_name = '/test'\n",
    "f = h5py.File(file_location, 'r')\n",
    "\n",
    "\n",
    "# Now we need to get the letters and align them\n",
    "text_directory = '../data/wall_street_letters.npy'\n",
    "letters_sequence = np.load(text_directory)\n",
    "Nletters = len(letters_sequence)\n",
    "symbols = set(letters_sequence)\n",
    "\n",
    "# Nexa parameters\n",
    "Nspatial_clusters = 3\n",
    "Ntime_clusters = 3\n",
    "Nembedding = 3\n",
    "\n",
    "parameters_string = '/' + str(Nspatial_clusters)\n",
    "parameters_string += '-' + str(Ntime_clusters)\n",
    "parameters_string += '-' + str(Nembedding)\n",
    "\n",
    "nexa = f[run_name + parameters_string]\n",
    "cluster_to_index = nexa['cluster_to_index']\n",
    "\n",
    "matrix = np.zeros((10, 3))\n",
    "\n",
    "for cluster in cluster_to_index:\n",
    "    \n",
    "    cluster_indexes = cluster_to_index[str(cluster)]\n",
    "\n",
    "    for index in cluster_indexes:\n",
    "        first_index = index // 3\n",
    "        second_index = index % 3\n",
    "        matrix[first_index, second_index] = cluster\n",
    "\n",
    "import matplotlib.pyplot as plt\n",
    "%matplotlib inline\n",
    "\n",
    "plt.matshow(matrix)"
   ]
  },
  {
   "cell_type": "code",
   "execution_count": 2,
   "metadata": {
    "collapsed": false
   },
   "outputs": [
    {
     "data": {
      "text/plain": [
       "<matplotlib.image.AxesImage at 0x7f4dc95719e8>"
      ]
     },
     "execution_count": 2,
     "metadata": {},
     "output_type": "execute_result"
    },
    {
     "data": {
      "image/png": "[encoded data removed]",
      "text/plain": [
       "<matplotlib.figure.Figure at 0x7f4df00016a0>"
      ]
     },
     "metadata": {},
     "output_type": "display_data"
    }
   ],
   "source": [
    "# First we load the file \n",
    "file_location = '../results_database/text_wall_street_columns.hdf5'\n",
    "run_name = '/independent'\n",
    "f = h5py.File(file_location, 'r')\n",
    "\n",
    "\n",
    "# Now we need to get the letters and align them\n",
    "text_directory = '../data/wall_street_letters.npy'\n",
    "letters_sequence = np.load(text_directory)\n",
    "Nletters = len(letters_sequence)\n",
    "symbols = set(letters_sequence)\n",
    "\n",
    "# Nexa parameters\n",
    "Nspatial_clusters = 3\n",
    "Ntime_clusters = 3\n",
    "Nembedding = 3\n",
    "\n",
    "parameters_string = '/' + str(Nspatial_clusters)\n",
    "parameters_string += '-' + str(Ntime_clusters)\n",
    "parameters_string += '-' + str(Nembedding)\n",
    "\n",
    "nexa = f[run_name + parameters_string]\n",
    "cluster_to_index = nexa['cluster_to_index']\n",
    "\n",
    "matrix = np.zeros((10, 3))\n",
    "\n",
    "for cluster in cluster_to_index:\n",
    "    \n",
    "    cluster_indexes = cluster_to_index[str(cluster)]\n",
    "\n",
    "    for index in cluster_indexes:\n",
    "        first_index = index // 3\n",
    "        second_index = index % 3\n",
    "        matrix[first_index, second_index] = cluster\n",
    "\n",
    "import matplotlib.pyplot as plt\n",
    "%matplotlib inline\n",
    "\n",
    "plt.matshow(matrix)"
   ]
  }
 ],
 "metadata": {
  "kernelspec": {
   "display_name": "Python 3",
   "language": "python",
   "name": "python3"
  },
  "language_info": {
   "codemirror_mode": {
    "name": "ipython",
    "version": 3
   },
   "file_extension": ".py",
   "mimetype": "text/x-python",
   "name": "python",
   "nbconvert_exporter": "python",
   "pygments_lexer": "ipython3",
   "version": "3.5.1"
  }
 },
 "nbformat": 4,
 "nbformat_minor": 0
}
