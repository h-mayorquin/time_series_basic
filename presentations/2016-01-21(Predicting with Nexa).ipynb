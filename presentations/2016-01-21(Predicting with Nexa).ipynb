{
 "cells": [
  {
   "cell_type": "markdown",
   "metadata": {},
   "source": [
    "# Prediction with Nexa.\n",
    "This is a very simple example that extracts the code vectors (features) from nexa and uses these to make predictions with nexa."
   ]
  },
  {
   "cell_type": "code",
   "execution_count": 1,
   "metadata": {
    "collapsed": true
   },
   "outputs": [],
   "source": [
    "import numpy as np\n",
    "import h5py\n",
    "from sklearn import svm, cross_validation\n",
    "from sklearn.naive_bayes import MultinomialNB"
   ]
  },
  {
   "cell_type": "markdown",
   "metadata": {},
   "source": [
    "## Information extraction"
   ]
  },
  {
   "cell_type": "code",
   "execution_count": 2,
   "metadata": {
    "collapsed": true
   },
   "outputs": [],
   "source": [
    "# First we load the file \n",
    "file_location = '../results_database/text_wall_street.hdf5'\n",
    "run_name = '/low-resolution'"
   ]
  },
  {
   "cell_type": "code",
   "execution_count": 3,
   "metadata": {
    "collapsed": false
   },
   "outputs": [],
   "source": [
    "# Nexa parameters\n",
    "Nspatial_clusters = 5\n",
    "Ntime_clusters = 15\n",
    "Nembedding = 3\n",
    "\n",
    "parameters_string = '/' + str(Nspatial_clusters)\n",
    "parameters_string += '-' + str(Ntime_clusters)\n",
    "parameters_string += '-' + str(Nembedding)\n",
    "\n",
    "f = h5py.File(file_location, 'r')\n",
    "nexa = f[run_name + parameters_string]"
   ]
  },
  {
   "cell_type": "code",
   "execution_count": 4,
   "metadata": {
    "collapsed": true
   },
   "outputs": [],
   "source": [
    "# Now we extract the time and the code vectors\n",
    "time = nexa['time']\n",
    "code_vectors = nexa['code-vectors']\n",
    "code_vectors_distance = nexa['code-vectors-distance']\n",
    "code_vectors_softmax = nexa['code-vectors-softmax']\n",
    "code_vectors_winner = nexa['code-vectors-winner']"
   ]
  },
  {
   "cell_type": "code",
   "execution_count": 5,
   "metadata": {
    "collapsed": false
   },
   "outputs": [],
   "source": [
    "# Now we need to get the letters and align them\n",
    "text_directory = '../data/wall_street_letters.npy'\n",
    "letters_sequence = np.load(text_directory)\n",
    "Nletters = len(letters_sequence)\n",
    "symbols = set(letters_sequence)"
   ]
  },
  {
   "cell_type": "markdown",
   "metadata": {},
   "source": [
    "## Predictions"
   ]
  },
  {
   "cell_type": "code",
   "execution_count": 6,
   "metadata": {
    "collapsed": true
   },
   "outputs": [],
   "source": [
    "# Parameters\n",
    "N = 5000 \n",
    "delay = 5"
   ]
  },
  {
   "cell_type": "markdown",
   "metadata": {},
   "source": [
    "#### First let's use winner takes all"
   ]
  },
  {
   "cell_type": "code",
   "execution_count": 7,
   "metadata": {
    "collapsed": true
   },
   "outputs": [],
   "source": [
    "# Make prediction with scikit-learn\n",
    "X = code_vectors_softmax[:(N-delay)]\n",
    "y = letters_sequence[delay:N]\n",
    "X_train, X_test, y_train, y_test = cross_validation.train_test_split(X, y, test_size=0.10)"
   ]
  },
  {
   "cell_type": "code",
   "execution_count": 8,
   "metadata": {
    "collapsed": false
   },
   "outputs": [
    {
     "name": "stdout",
     "output_type": "stream",
     "text": [
      "SVM score 0.766\n",
      "Multinomial score 0.754\n"
     ]
    }
   ],
   "source": [
    "clf = svm.SVC(C=1.0, cache_size=200, kernel='linear')\n",
    "clf.fit(X_train, y_train)\n",
    "print('SVM score', clf.score(X_test, y_test))\n",
    "\n",
    "clf_b = MultinomialNB()\n",
    "clf_b.fit(X_train, y_train)\n",
    "print('Multinomial score', clf_b.score(X_test, y_test))"
   ]
  },
  {
   "cell_type": "markdown",
   "metadata": {},
   "source": [
    "#### Now let's use softmax"
   ]
  },
  {
   "cell_type": "code",
   "execution_count": 9,
   "metadata": {
    "collapsed": false
   },
   "outputs": [],
   "source": [
    "# Make prediction with scikit-learn\n",
    "X = code_vectors_softmax[:(N-delay)]\n",
    "y = letters_sequence[delay:N]\n",
    "X_train, X_test, y_train, y_test = cross_validation.train_test_split(X, y, test_size=0.10)"
   ]
  },
  {
   "cell_type": "code",
   "execution_count": 10,
   "metadata": {
    "collapsed": false
   },
   "outputs": [
    {
     "name": "stdout",
     "output_type": "stream",
     "text": [
      "SVM score 0.792\n",
      "Multinomial score 0.758\n"
     ]
    }
   ],
   "source": [
    "clf = svm.SVC(C=1.0, cache_size=200, kernel='linear')\n",
    "clf.fit(X_train, y_train)\n",
    "print('SVM score', clf.score(X_test, y_test))\n",
    "\n",
    "clf_b = MultinomialNB()\n",
    "clf_b.fit(X_train, y_train)\n",
    "print('Multinomial score', clf_b.score(X_test, y_test))"
   ]
  },
  {
   "cell_type": "markdown",
   "metadata": {},
   "source": [
    "#### Now we move on and use distance"
   ]
  },
  {
   "cell_type": "markdown",
   "metadata": {},
   "source": [
    "#### Finally let's not use the binary representation but the normal one"
   ]
  },
  {
   "cell_type": "code",
   "execution_count": 11,
   "metadata": {
    "collapsed": true
   },
   "outputs": [],
   "source": [
    "# Make prediction with scikit-learn\n",
    "X = code_vectors[:(N-delay)]\n",
    "y = letters_sequence[delay:N]\n",
    "X_train, X_test, y_train, y_test = cross_validation.train_test_split(X, y, test_size=0.10)"
   ]
  },
  {
   "cell_type": "code",
   "execution_count": 12,
   "metadata": {
    "collapsed": false
   },
   "outputs": [
    {
     "name": "stdout",
     "output_type": "stream",
     "text": [
      "SVM score 0.32\n",
      "Multinomial score 0.238\n"
     ]
    }
   ],
   "source": [
    "clf = svm.SVC(C=1.0, cache_size=200, kernel='linear')\n",
    "clf.fit(X_train, y_train)\n",
    "print('SVM score', clf.score(X_test, y_test))\n",
    "\n",
    "clf_b = MultinomialNB()\n",
    "clf_b.fit(X_train, y_train)\n",
    "print('Multinomial score', clf_b.score(X_test, y_test))"
   ]
  },
  {
   "cell_type": "markdown",
   "metadata": {},
   "source": [
    "#### Now we move on and use distance (This sometimes does not converge!, this seems dodgy)"
   ]
  },
  {
   "cell_type": "code",
   "execution_count": 13,
   "metadata": {
    "collapsed": true
   },
   "outputs": [],
   "source": [
    "# Make prediction with scikit-learn\n",
    "X = code_vectors_distance[:(N-delay)]\n",
    "y = letters_sequence[delay:N]\n",
    "X_train, X_test, y_train, y_test = cross_validation.train_test_split(X, y, test_size=0.10)"
   ]
  },
  {
   "cell_type": "code",
   "execution_count": 14,
   "metadata": {
    "collapsed": false
   },
   "outputs": [
    {
     "name": "stdout",
     "output_type": "stream",
     "text": [
      "SVM score 0.984\n",
      "Multinomial score 0.474\n"
     ]
    }
   ],
   "source": [
    "clf = svm.SVC(C=1.0, cache_size=200, kernel='linear')\n",
    "clf.fit(X_train, y_train)\n",
    "print('SVM score', clf.score(X_test, y_test))\n",
    "\n",
    "clf_b = MultinomialNB()\n",
    "clf_b.fit(X_train, y_train)\n",
    "print('Multinomial score', clf_b.score(X_test, y_test))"
   ]
  }
 ],
 "metadata": {
  "kernelspec": {
   "display_name": "Python 3",
   "language": "python",
   "name": "python3"
  },
  "language_info": {
   "codemirror_mode": {
    "name": "ipython",
    "version": 3
   },
   "file_extension": ".py",
   "mimetype": "text/x-python",
   "name": "python",
   "nbconvert_exporter": "python",
   "pygments_lexer": "ipython3",
   "version": "3.5.1"
  }
 },
 "nbformat": 4,
 "nbformat_minor": 0
}
