{
 "cells": [
  {
   "cell_type": "markdown",
   "metadata": {},
   "source": [
    "# Nexa Wall Street Columns High Resolution (30 x 30) - Next letter prediction\n",
    "In this notebook we used the features extract from Nexa from letters to try to predict the next letter."
   ]
  },
  {
   "cell_type": "code",
   "execution_count": 1,
   "metadata": {
    "collapsed": false
   },
   "outputs": [
    {
     "name": "stderr",
     "output_type": "stream",
     "text": [
      "/home/heberto/miniconda/envs/nexa/lib/python3.5/site-packages/matplotlib/__init__.py:872: UserWarning: axes.color_cycle is deprecated and replaced with axes.prop_cycle; please use the latter.\n",
      "  warnings.warn(self.msg_depr % (key, alt_key))\n"
     ]
    }
   ],
   "source": [
    "import numpy as np\n",
    "from sklearn import svm, cross_validation\n",
    "from sklearn.discriminant_analysis import LinearDiscriminantAnalysis\n",
    "import h5py\n",
    "\n",
    "import matplotlib.pyplot as plt\n",
    "import seaborn as sns\n",
    "%matplotlib inline\n",
    "\n",
    "import sys\n",
    "sys.path.append(\"../\")"
   ]
  },
  {
   "cell_type": "markdown",
   "metadata": {},
   "source": [
    "## Using constant number of data clusters (Ndata = 20)"
   ]
  },
  {
   "cell_type": "markdown",
   "metadata": {},
   "source": [
    "### Cover all policy"
   ]
  },
  {
   "cell_type": "markdown",
   "metadata": {},
   "source": [
    "#### Load the data "
   ]
  },
  {
   "cell_type": "code",
   "execution_count": 2,
   "metadata": {
    "collapsed": false
   },
   "outputs": [
    {
     "name": "stdout",
     "output_type": "stream",
     "text": [
      "[(0, 'i'), (1, 'i'), (2, 'i'), (3, 'i'), (4, 'i'), (5, 'i'), (6, 'i'), (7, 'i'), (8, 'i'), (9, 'i'), (10, 'i'), (11, 'i'), (12, 'i'), (13, 'i'), (14, 'i'), (15, 'i'), (16, 'i'), (17, 'i'), (18, 'i'), (19, 'i'), (20, 'i'), (21, 'i'), (22, 'i'), (23, 'i'), (24, 'i'), (25, 'i'), (26, 'i'), (27, 'i'), (28, 'i'), (29, 'i'), (30, 'e'), (31, 'e'), (32, 'e'), (33, 'e'), (34, 'e'), (35, 'e'), (36, 'e'), (37, 'e'), (38, 'e'), (39, 'e')]\n"
     ]
    }
   ],
   "source": [
    "# Data to use\n",
    "Ndata = 10000\n",
    "Nside = 30\n",
    "\n",
    "# First we load the file \n",
    "file_location = '../results_database/text_wall_street_columns_30_Ndata20.hdf5'\n",
    "\n",
    "# Now we need to get the letters and align them\n",
    "text_directory = '../data/wall_street_letters_30.npy'\n",
    "letters_sequence = np.load(text_directory)\n",
    "Nletters = len(letters_sequence)\n",
    "symbols = set(letters_sequence)\n",
    "\n",
    "targets = []\n",
    "\n",
    "for index in range(Ndata):\n",
    "    letter_index = index // Nside\n",
    "    targets.append(letters_sequence[letter_index + 1])\n",
    "\n",
    "# Transform to array\n",
    "targets = np.array(targets)\n",
    "print(list(enumerate(targets[0:40])))"
   ]
  },
  {
   "cell_type": "markdown",
   "metadata": {},
   "source": [
    "#### Do the loop"
   ]
  },
  {
   "cell_type": "code",
   "execution_count": 4,
   "metadata": {
    "collapsed": true
   },
   "outputs": [],
   "source": [
    "# Calculate the predictions     \n",
    "\n",
    "scores_mixed = []\n",
    "scores_indp = []\n",
    "\n",
    "max_lags = np.arange(2, 17, 2)\n",
    "\n",
    "# Nexa parameters\n",
    "Ntime_clusters = 20\n",
    "Nembedding = 3"
   ]
  },
  {
   "cell_type": "code",
   "execution_count": 5,
   "metadata": {
    "collapsed": false
   },
   "outputs": [
    {
     "name": "stdout",
     "output_type": "stream",
     "text": [
      "2\n",
      "4\n",
      "6\n",
      "8\n",
      "10\n",
      "12\n",
      "14\n",
      "16\n"
     ]
    },
    {
     "name": "stderr",
     "output_type": "stream",
     "text": [
      "/home/heberto/miniconda/envs/nexa/lib/python3.5/site-packages/sklearn/discriminant_analysis.py:453: UserWarning: The priors do not sum to 1. Renormalizing\n",
      "  UserWarning)\n",
      "/home/heberto/miniconda/envs/nexa/lib/python3.5/site-packages/sklearn/discriminant_analysis.py:387: UserWarning: Variables are collinear.\n",
      "  warnings.warn(\"Variables are collinear.\")\n"
     ]
    }
   ],
   "source": [
    "for max_lag in max_lags:\n",
    "    \n",
    "    print(max_lag)\n",
    "    Nspatial_clusters = max_lag\n",
    "    # Here calculate the scores for the mixes\n",
    "    run_name = '/test' + str(max_lag)\n",
    "    f = h5py.File(file_location, 'r')\n",
    "\n",
    "    parameters_string = '/' + str(Nspatial_clusters)\n",
    "    parameters_string += '-' + str(Ntime_clusters)\n",
    "    parameters_string += '-' + str(Nembedding)\n",
    "\n",
    "    nexa = f[run_name + parameters_string]\n",
    "    cluster_to_index = nexa['cluster_to_index']\n",
    "    code_vectors_softmax = np.array(nexa['code-vectors-softmax'])\n",
    "\n",
    "    # Now we need to classify\n",
    "    X  = code_vectors_softmax[:Ndata]\n",
    "    y = targets\n",
    "    X_train, X_test, y_train, y_test = cross_validation.train_test_split(X, y, test_size=0.10)\n",
    "\n",
    "    clf_linear = LinearDiscriminantAnalysis()\n",
    "    clf_linear.fit(X_train, y_train)\n",
    "    score = clf_linear.score(X_test, y_test) * 100.0\n",
    "    scores_mixed.append(score)\n",
    "\n",
    "    # Here calculate the scores for the independent\n",
    "    run_name = '/indep' + str(max_lag)\n",
    "    f = h5py.File(file_location, 'r')\n",
    "    \n",
    "    parameters_string = '/' + str(Nspatial_clusters)\n",
    "    parameters_string += '-' + str(Ntime_clusters)\n",
    "    parameters_string += '-' + str(Nembedding)\n",
    "\n",
    "    nexa = f[run_name + parameters_string]\n",
    "    cluster_to_index = nexa['cluster_to_index']\n",
    "    code_vectors_softmax = np.array(nexa['code-vectors-softmax'])\n",
    "\n",
    "    # Now we need to classify\n",
    "    X  = code_vectors_softmax[:Ndata]\n",
    "    y = targets\n",
    "    X_train, X_test, y_train, y_test = cross_validation.train_test_split(X, y, test_size=0.10)\n",
    "\n",
    "    clf_linear = LinearDiscriminantAnalysis()\n",
    "    clf_linear.fit(X_train, y_train)\n",
    "    score = clf_linear.score(X_test, y_test) * 100.0\n",
    "    scores_indp.append(score)"
   ]
  },
  {
   "cell_type": "code",
   "execution_count": 6,
   "metadata": {
    "collapsed": false
   },
   "outputs": [
    {
     "data": {
      "text/plain": [
       "<matplotlib.legend.Legend at 0x7f82dcfb9550>"
      ]
     },
     "execution_count": 6,
     "metadata": {},
     "output_type": "execute_result"
    },
    {
     "data": {
      "image/png": "[encoded data removed]",
      "text/plain": [
       "<matplotlib.figure.Figure at 0x7f82dd457400>"
      ]
     },
     "metadata": {},
     "output_type": "display_data"
    }
   ],
   "source": [
    "fig = plt.figure(figsize=(16, 12))\n",
    "ax = fig.add_subplot(111)\n",
    "ax.plot(max_lags, scores_indp, 'o-', label='independent', lw=2, markersize=10)\n",
    "ax.plot(max_lags, scores_mixed, 'o-', label='mixed', lw=2, markersize=10)\n",
    "\n",
    "ax.set_ylim(0, 105)\n",
    "ax.set_ylabel('Accuracy')\n",
    "ax.set_xlabel('Max lags')\n",
    "ax.set_title('Accuracy vs Max Lags (Inclusive Policy)')\n",
    "ax.legend()"
   ]
  },
  {
   "cell_type": "markdown",
   "metadata": {},
   "source": [
    "### Cover Exclusively Policy"
   ]
  },
  {
   "cell_type": "markdown",
   "metadata": {},
   "source": [
    "#### Load data"
   ]
  },
  {
   "cell_type": "code",
   "execution_count": 9,
   "metadata": {
    "collapsed": false
   },
   "outputs": [],
   "source": [
    "# Data to use\n",
    "Ndata = 10000\n",
    "Nside = 30\n",
    "\n",
    "# Calculate the predictions     \n",
    "\n",
    "scores_mixed = []\n",
    "scores_indp = []\n",
    "\n",
    "max_lags = np.arange(2, 17, 2)\n",
    "\n",
    "# Nexa parameters\n",
    "Nembedding = 3\n",
    "Ntime_clusters = 20\n",
    "\n",
    "# First we load the file \n",
    "file_location = '../results_database/text_wall_street_columns_30_Ndata20.hdf5'\n",
    "\n",
    "# Now we need to get the letters and align them\n",
    "text_directory = '../data/wall_street_letters_30.npy'\n",
    "letters_sequence = np.load(text_directory)\n",
    "Nletters = len(letters_sequence)\n",
    "symbols = set(letters_sequence)\n"
   ]
  },
  {
   "cell_type": "markdown",
   "metadata": {},
   "source": [
    "#### Do the Loop and Calculate the Predictions"
   ]
  },
  {
   "cell_type": "code",
   "execution_count": 10,
   "metadata": {
    "collapsed": false
   },
   "outputs": [
    {
     "name": "stdout",
     "output_type": "stream",
     "text": [
      "2\n",
      "4\n",
      "6\n",
      "8"
     ]
    },
    {
     "name": "stderr",
     "output_type": "stream",
     "text": [
      "/home/heberto/miniconda/envs/nexa/lib/python3.5/site-packages/sklearn/discriminant_analysis.py:387: UserWarning: Variables are collinear.\n",
      "  warnings.warn(\"Variables are collinear.\")\n",
      "/home/heberto/miniconda/envs/nexa/lib/python3.5/site-packages/sklearn/discriminant_analysis.py:453: UserWarning: The priors do not sum to 1. Renormalizing\n",
      "  UserWarning)\n"
     ]
    },
    {
     "name": "stdout",
     "output_type": "stream",
     "text": [
      "\n",
      "10\n",
      "12\n",
      "14\n",
      "16\n"
     ]
    }
   ],
   "source": [
    "for max_lag in max_lags:\n",
    "    targets = []\n",
    "    \n",
    "    aux = Nside - max_lag\n",
    "    for index in range(Ndata):\n",
    "        letter_index = index // aux\n",
    "        targets.append(letters_sequence[letter_index + 1])\n",
    "                \n",
    "    # Transform to array\n",
    "    targets = np.array(targets)\n",
    "    \n",
    "    print(max_lag)\n",
    "    Nspatial_clusters = max_lag\n",
    "    # Here calculate the scores for the mixes\n",
    "    run_name = '/test' + str(max_lag)\n",
    "    f = h5py.File(file_location, 'r')\n",
    "\n",
    "    parameters_string = '/' + str(Nspatial_clusters)\n",
    "    parameters_string += '-' + str(Ntime_clusters)\n",
    "    parameters_string += '-' + str(Nembedding)\n",
    "\n",
    "    nexa = f[run_name + parameters_string]\n",
    "    cluster_to_index = nexa['cluster_to_index']\n",
    "    code_vectors_softmax = np.array(nexa['code-vectors-softmax'])\n",
    "    \n",
    "    # Take only the ondes you need\n",
    "    index = np.arange(Ndata * 3)\n",
    "    index = index[(index % 30) < aux]\n",
    "    code_vectors_softmax = code_vectors_softmax[index, :]\n",
    "    \n",
    "    if False:\n",
    "        print(index[0:40])\n",
    "        print(code_vectors_softmax.shape)\n",
    "        print(list(enumerate(targets[0:40])))\n",
    "        print(targets.size)\n",
    "        print(code_vectors_softmax.shape)\n",
    "        print(Ndata)\n",
    "            \n",
    "    # Now we need to classify\n",
    "    X  = code_vectors_softmax[:Ndata]\n",
    "    y = targets\n",
    "    X_train, X_test, y_train, y_test = cross_validation.train_test_split(X, y, test_size=0.10)\n",
    "\n",
    "    clf_linear = LinearDiscriminantAnalysis()\n",
    "    clf_linear.fit(X_train, y_train)\n",
    "    score = clf_linear.score(X_test, y_test) * 100.0\n",
    "    scores_mixed.append(score)\n",
    "\n",
    "    # Here calculate the scores for the independent\n",
    "    run_name = '/indep' + str(max_lag)\n",
    "    f = h5py.File(file_location, 'r')\n",
    "    \n",
    "    parameters_string = '/' + str(Nspatial_clusters)\n",
    "    parameters_string += '-' + str(Ntime_clusters)\n",
    "    parameters_string += '-' + str(Nembedding)\n",
    "\n",
    "    nexa = f[run_name + parameters_string]\n",
    "    cluster_to_index = nexa['cluster_to_index']\n",
    "    code_vectors_softmax = np.array(nexa['code-vectors-softmax'])\n",
    "    \n",
    "    # Take only the ondes you need\n",
    "    index = np.arange(Ndata * 3)\n",
    "    index = index[(index % 30) < aux]\n",
    "    code_vectors_softmax = code_vectors_softmax[index, :]\n",
    "\n",
    "    # Now we need to classify\n",
    "    X  = code_vectors_softmax[:Ndata]\n",
    "    y = targets\n",
    "    X_train, X_test, y_train, y_test = cross_validation.train_test_split(X, y, test_size=0.10)\n",
    "\n",
    "    clf_linear = LinearDiscriminantAnalysis()\n",
    "    clf_linear.fit(X_train, y_train)\n",
    "    score = clf_linear.score(X_test, y_test) * 100.0\n",
    "    scores_indp.append(score)"
   ]
  },
  {
   "cell_type": "code",
   "execution_count": 11,
   "metadata": {
    "collapsed": false
   },
   "outputs": [
    {
     "data": {
      "text/plain": [
       "<matplotlib.legend.Legend at 0x7f82dd16d160>"
      ]
     },
     "execution_count": 11,
     "metadata": {},
     "output_type": "execute_result"
    },
    {
     "data": {
      "image/png": "[encoded data removed]",
      "text/plain": [
       "<matplotlib.figure.Figure at 0x7f82dce7bcc0>"
      ]
     },
     "metadata": {},
     "output_type": "display_data"
    }
   ],
   "source": [
    "fig = plt.figure(figsize=(16, 12))\n",
    "ax = fig.add_subplot(111)\n",
    "ax.plot(max_lags, scores_indp, 'o-', label='independent', lw=2, markersize=10)\n",
    "ax.plot(max_lags, scores_mixed, 'o-', label='mixed', lw=2, markersize=10)\n",
    "\n",
    "ax.set_ylim(0, 105)\n",
    "ax.set_ylabel('Accuracy')\n",
    "ax.set_xlabel('Max lags')\n",
    "ax.set_title('Accuracy vs Max Lags (Exclusive Policy)')\n",
    "ax.legend()"
   ]
  },
  {
   "cell_type": "markdown",
   "metadata": {},
   "source": [
    "## Using constant number of features"
   ]
  },
  {
   "cell_type": "markdown",
   "metadata": {},
   "source": [
    "### Cover all policy"
   ]
  },
  {
   "cell_type": "markdown",
   "metadata": {},
   "source": [
    "#### Load the data "
   ]
  },
  {
   "cell_type": "code",
   "execution_count": 12,
   "metadata": {
    "collapsed": false
   },
   "outputs": [
    {
     "name": "stdout",
     "output_type": "stream",
     "text": [
      "[(0, 'i'), (1, 'i'), (2, 'i'), (3, 'i'), (4, 'i'), (5, 'i'), (6, 'i'), (7, 'i'), (8, 'i'), (9, 'i'), (10, 'i'), (11, 'i'), (12, 'i'), (13, 'i'), (14, 'i'), (15, 'i'), (16, 'i'), (17, 'i'), (18, 'i'), (19, 'i'), (20, 'i'), (21, 'i'), (22, 'i'), (23, 'i'), (24, 'i'), (25, 'i'), (26, 'i'), (27, 'i'), (28, 'i'), (29, 'i'), (30, 'e'), (31, 'e'), (32, 'e'), (33, 'e'), (34, 'e'), (35, 'e'), (36, 'e'), (37, 'e'), (38, 'e'), (39, 'e')]\n"
     ]
    }
   ],
   "source": [
    "# Data to use\n",
    "Ndata = 10000\n",
    "Nside = 30\n",
    "\n",
    "# First we load the file \n",
    "file_location = '../results_database/text_wall_street_columns_30_semi_constantNdata.hdf5'\n",
    "\n",
    "# Now we need to get the letters and align them\n",
    "text_directory = '../data/wall_street_letters_30.npy'\n",
    "letters_sequence = np.load(text_directory)\n",
    "Nletters = len(letters_sequence)\n",
    "symbols = set(letters_sequence)\n",
    "\n",
    "targets = []\n",
    "\n",
    "for index in range(Ndata):\n",
    "    letter_index = index // Nside\n",
    "    targets.append(letters_sequence[letter_index + 1])\n",
    "\n",
    "# Transform to array\n",
    "targets = np.array(targets)\n",
    "print(list(enumerate(targets[0:40])))"
   ]
  },
  {
   "cell_type": "markdown",
   "metadata": {},
   "source": [
    "#### Do the loop"
   ]
  },
  {
   "cell_type": "code",
   "execution_count": 13,
   "metadata": {
    "collapsed": true
   },
   "outputs": [],
   "source": [
    "# Calculate the predictions     \n",
    "\n",
    "scores_mixed = []\n",
    "scores_indp = []\n",
    "\n",
    "max_lags = np.arange(2, 17, 2)\n",
    "\n",
    "# Nexa parameters\n",
    "Ntime_clusters = 20\n",
    "Nembedding = 3"
   ]
  },
  {
   "cell_type": "code",
   "execution_count": 16,
   "metadata": {
    "collapsed": false
   },
   "outputs": [
    {
     "name": "stdout",
     "output_type": "stream",
     "text": [
      "2\n",
      "4"
     ]
    },
    {
     "name": "stderr",
     "output_type": "stream",
     "text": [
      "/home/heberto/miniconda/envs/nexa/lib/python3.5/site-packages/sklearn/discriminant_analysis.py:387: UserWarning: Variables are collinear.\n",
      "  warnings.warn(\"Variables are collinear.\")\n",
      "/home/heberto/miniconda/envs/nexa/lib/python3.5/site-packages/sklearn/discriminant_analysis.py:453: UserWarning: The priors do not sum to 1. Renormalizing\n",
      "  UserWarning)\n"
     ]
    },
    {
     "name": "stdout",
     "output_type": "stream",
     "text": [
      "\n",
      "6\n",
      "8\n",
      "10\n",
      "12\n",
      "14\n",
      "16\n"
     ]
    }
   ],
   "source": [
    "for max_lag in max_lags:\n",
    "    \n",
    "    print(max_lag)\n",
    "    Nspatial_clusters = max_lag\n",
    "    Ntime_clusters = 60 // max_lag\n",
    "    \n",
    "    # Here calculate the scores for the mixes\n",
    "    run_name = '/test' + str(max_lag)\n",
    "    f = h5py.File(file_location, 'r')\n",
    "\n",
    "    parameters_string = '/' + str(Nspatial_clusters)\n",
    "    parameters_string += '-' + str(Ntime_clusters)\n",
    "    parameters_string += '-' + str(Nembedding)\n",
    "\n",
    "    nexa = f[run_name + parameters_string]\n",
    "    cluster_to_index = nexa['cluster_to_index']\n",
    "    code_vectors_softmax = np.array(nexa['code-vectors-softmax'])\n",
    "\n",
    "    # Now we need to classify\n",
    "    X  = code_vectors_softmax[:Ndata]\n",
    "    y = targets\n",
    "    X_train, X_test, y_train, y_test = cross_validation.train_test_split(X, y, test_size=0.10)\n",
    "\n",
    "    clf_linear = LinearDiscriminantAnalysis()\n",
    "    clf_linear.fit(X_train, y_train)\n",
    "    score = clf_linear.score(X_test, y_test) * 100.0\n",
    "    scores_mixed.append(score)\n",
    "\n",
    "    # Here calculate the scores for the independent\n",
    "    run_name = '/indep' + str(max_lag)\n",
    "    f = h5py.File(file_location, 'r')\n",
    "    \n",
    "    parameters_string = '/' + str(Nspatial_clusters)\n",
    "    parameters_string += '-' + str(Ntime_clusters)\n",
    "    parameters_string += '-' + str(Nembedding)\n",
    "\n",
    "    nexa = f[run_name + parameters_string]\n",
    "    cluster_to_index = nexa['cluster_to_index']\n",
    "    code_vectors_softmax = np.array(nexa['code-vectors-distance'])\n",
    "\n",
    "    # Now we need to classify\n",
    "    X  = code_vectors_softmax[:Ndata]\n",
    "    y = targets\n",
    "    X_train, X_test, y_train, y_test = cross_validation.train_test_split(X, y, test_size=0.10)\n",
    "\n",
    "    clf_linear = LinearDiscriminantAnalysis()\n",
    "    clf_linear.fit(X_train, y_train)\n",
    "    score = clf_linear.score(X_test, y_test) * 100.0\n",
    "    scores_indp.append(score)"
   ]
  },
  {
   "cell_type": "code",
   "execution_count": 17,
   "metadata": {
    "collapsed": false
   },
   "outputs": [
    {
     "data": {
      "text/plain": [
       "<matplotlib.legend.Legend at 0x7f82dd079550>"
      ]
     },
     "execution_count": 17,
     "metadata": {},
     "output_type": "execute_result"
    },
    {
     "data": {
      "image/png": "[encoded data removed]",
      "text/plain": [
       "<matplotlib.figure.Figure at 0x7f82dd153d68>"
      ]
     },
     "metadata": {},
     "output_type": "display_data"
    }
   ],
   "source": [
    "fig = plt.figure(figsize=(16, 12))\n",
    "ax = fig.add_subplot(111)\n",
    "ax.plot(max_lags, scores_indp, 'o-', label='independent', lw=2, markersize=10)\n",
    "ax.plot(max_lags, scores_mixed, 'o-', label='mixed', lw=2, markersize=10)\n",
    "\n",
    "ax.set_ylim(0, 105)\n",
    "ax.set_ylabel('Accuracy')\n",
    "ax.set_xlabel('Max lags')\n",
    "ax.set_title('Accuracy vs Max Lags (Inclusive Policy)')\n",
    "ax.legend()"
   ]
  },
  {
   "cell_type": "markdown",
   "metadata": {},
   "source": [
    "### Cover Exclusively Policy"
   ]
  },
  {
   "cell_type": "markdown",
   "metadata": {},
   "source": [
    "#### Load the Data"
   ]
  },
  {
   "cell_type": "code",
   "execution_count": 18,
   "metadata": {
    "collapsed": true
   },
   "outputs": [],
   "source": [
    "# Data to use\n",
    "Ndata = 10000\n",
    "Nside = 30\n",
    "\n",
    "# Calculate the predictions     \n",
    "\n",
    "scores_mixed = []\n",
    "scores_indp = []\n",
    "\n",
    "max_lags = np.arange(2, 17, 2)\n",
    "\n",
    "# Nexa parameters\n",
    "Ntime_clusters = 20\n",
    "Nembedding = 3\n",
    "\n",
    "# First we load the file \n",
    "file_location = '../results_database/text_wall_street_columns_30_semi_constantNdata.hdf5'\n",
    "\n",
    "# Now we need to get the letters and align them\n",
    "text_directory = '../data/wall_street_letters_30.npy'\n",
    "letters_sequence = np.load(text_directory)\n",
    "Nletters = len(letters_sequence)\n",
    "symbols = set(letters_sequence)"
   ]
  },
  {
   "cell_type": "markdown",
   "metadata": {},
   "source": [
    "#### Do the Loop"
   ]
  },
  {
   "cell_type": "code",
   "execution_count": 19,
   "metadata": {
    "collapsed": false
   },
   "outputs": [
    {
     "name": "stdout",
     "output_type": "stream",
     "text": [
      "lags 2\n",
      "Ndata clusters 30\n",
      "lags 4\n",
      "Ndata clusters 15\n",
      "lags"
     ]
    },
    {
     "name": "stderr",
     "output_type": "stream",
     "text": [
      "/home/heberto/miniconda/envs/nexa/lib/python3.5/site-packages/sklearn/discriminant_analysis.py:387: UserWarning: Variables are collinear.\n",
      "  warnings.warn(\"Variables are collinear.\")\n",
      "/home/heberto/miniconda/envs/nexa/lib/python3.5/site-packages/sklearn/discriminant_analysis.py:453: UserWarning: The priors do not sum to 1. Renormalizing\n",
      "  UserWarning)\n"
     ]
    },
    {
     "name": "stdout",
     "output_type": "stream",
     "text": [
      " 6\n",
      "Ndata clusters 10\n",
      "lags 8\n",
      "Ndata clusters 7\n",
      "lags 10\n",
      "Ndata clusters 6\n",
      "lags 12\n",
      "Ndata clusters 5\n",
      "lags 14\n",
      "Ndata clusters 4\n",
      "lags 16\n",
      "Ndata clusters 3\n"
     ]
    }
   ],
   "source": [
    "for max_lag in max_lags:\n",
    "    targets = []\n",
    "    \n",
    "    aux = Nside - max_lag\n",
    "    \n",
    "    #Take the corresponding letters\n",
    "    for index in range(Ndata):\n",
    "        letter_index = index // aux\n",
    "        targets.append(letters_sequence[letter_index + 1])\n",
    "                \n",
    "    # Transform to array\n",
    "    targets = np.array(targets)\n",
    "    \n",
    "    print('lags', max_lag)\n",
    "    Nspatial_clusters = max_lag\n",
    "    Ntime_clusters = 60 // max_lag\n",
    "    print('Ndata clusters', Ntime_clusters)\n",
    "    \n",
    "    # Here calculate the scores for the mixes\n",
    "    run_name = '/test' + str(max_lag)\n",
    "    f = h5py.File(file_location, 'r')\n",
    "\n",
    "    parameters_string = '/' + str(Nspatial_clusters)\n",
    "    parameters_string += '-' + str(Ntime_clusters)\n",
    "    parameters_string += '-' + str(Nembedding)\n",
    "    \n",
    "    nexa = f[run_name + parameters_string]\n",
    "    cluster_to_index = nexa['cluster_to_index']\n",
    "    code_vectors_softmax = np.array(nexa['code-vectors-softmax'])\n",
    "    \n",
    "    # Take only the ondes you need\n",
    "    index = np.arange(Ndata * 3)\n",
    "    index = index[(index % 30) < aux]\n",
    "    code_vectors_softmax = code_vectors_softmax[index, :]\n",
    "    \n",
    "    if False:\n",
    "        print(index[0:40])\n",
    "        print(code_vectors_softmax.shape)\n",
    "        print(list(enumerate(targets[0:40])))\n",
    "        print(targets.size)\n",
    "        print(code_vectors_softmax.shape)\n",
    "        print(Ndata)\n",
    "            \n",
    "    # Now we need to classify\n",
    "    X  = code_vectors_softmax[:Ndata]\n",
    "    y = targets\n",
    "    X_train, X_test, y_train, y_test = cross_validation.train_test_split(X, y, test_size=0.10)\n",
    "\n",
    "    clf_linear = LinearDiscriminantAnalysis()\n",
    "    clf_linear.fit(X_train, y_train)\n",
    "    score = clf_linear.score(X_test, y_test) * 100.0\n",
    "    scores_mixed.append(score)\n",
    "\n",
    "    # Here calculate the scores for the independent\n",
    "    run_name = '/indep' + str(max_lag)\n",
    "    f = h5py.File(file_location, 'r')\n",
    "    \n",
    "    parameters_string = '/' + str(Nspatial_clusters)\n",
    "    parameters_string += '-' + str(Ntime_clusters)\n",
    "    parameters_string += '-' + str(Nembedding)\n",
    "\n",
    "    nexa = f[run_name + parameters_string]\n",
    "    cluster_to_index = nexa['cluster_to_index']\n",
    "    code_vectors_softmax = np.array(nexa['code-vectors-softmax'])\n",
    "    \n",
    "     # Take only the ondes you need\n",
    "    index = np.arange(Ndata * 3)\n",
    "    index = index[(index % 30) < aux]\n",
    "    code_vectors_softmax = code_vectors_softmax[index, :]\n",
    "\n",
    "    # Now we need to classify\n",
    "    X  = code_vectors_softmax[:Ndata]\n",
    "    y = targets\n",
    "    X_train, X_test, y_train, y_test = cross_validation.train_test_split(X, y, test_size=0.10)\n",
    "\n",
    "    clf_linear = LinearDiscriminantAnalysis()\n",
    "    clf_linear.fit(X_train, y_train)\n",
    "    score = clf_linear.score(X_test, y_test) * 100.0\n",
    "    scores_indp.append(score)"
   ]
  },
  {
   "cell_type": "code",
   "execution_count": 20,
   "metadata": {
    "collapsed": false
   },
   "outputs": [
    {
     "data": {
      "text/plain": [
       "<matplotlib.legend.Legend at 0x7f82dcd11160>"
      ]
     },
     "execution_count": 20,
     "metadata": {},
     "output_type": "execute_result"
    },
    {
     "data": {
      "image/png": "[encoded data removed]",
      "text/plain": [
       "<matplotlib.figure.Figure at 0x7f82dd136908>"
      ]
     },
     "metadata": {},
     "output_type": "display_data"
    }
   ],
   "source": [
    "fig = plt.figure(figsize=(16, 12))\n",
    "ax = fig.add_subplot(111)\n",
    "ax.plot(max_lags, scores_indp, 'o-', label='independent', lw=2, markersize=10)\n",
    "ax.plot(max_lags, scores_mixed, 'o-', label='mixed', lw=2, markersize=10)\n",
    "\n",
    "ax.set_ylim(0, 105)\n",
    "ax.set_ylabel('Accuracy')\n",
    "ax.set_xlabel('Max lags')\n",
    "ax.set_title('Accuracy vs Max Lags (Exclusive Policy)')\n",
    "ax.legend()"
   ]
  },
  {
   "cell_type": "code",
   "execution_count": null,
   "metadata": {
    "collapsed": true
   },
   "outputs": [],
   "source": []
  }
 ],
 "metadata": {
  "kernelspec": {
   "display_name": "Python 3",
   "language": "python",
   "name": "python3"
  },
  "language_info": {
   "codemirror_mode": {
    "name": "ipython",
    "version": 3
   },
   "file_extension": ".py",
   "mimetype": "text/x-python",
   "name": "python",
   "nbconvert_exporter": "python",
   "pygments_lexer": "ipython3",
   "version": "3.5.1"
  }
 },
 "nbformat": 4,
 "nbformat_minor": 0
}
