{
 "cells": [
  {
   "cell_type": "markdown",
   "metadata": {},
   "source": [
    "# Prediction of letters as a function of data used\n",
    "In this notebook we do the same tasks of predicting next letter using Nexa. However, we test here how does the prediction become with different number of data is used."
   ]
  },
  {
   "cell_type": "markdown",
   "metadata": {},
   "source": [
    "### Load libraries"
   ]
  },
  {
   "cell_type": "code",
   "execution_count": 1,
   "metadata": {
    "collapsed": true
   },
   "outputs": [],
   "source": [
    "import numpy as np\n",
    "import h5py\n",
    "from sklearn import svm, cross_validation\n",
    "from sklearn.naive_bayes import MultinomialNB"
   ]
  },
  {
   "cell_type": "markdown",
   "metadata": {},
   "source": [
    "### Load the Data"
   ]
  },
  {
   "cell_type": "code",
   "execution_count": 2,
   "metadata": {
    "collapsed": true
   },
   "outputs": [],
   "source": [
    "# First we load the file \n",
    "file_location = '../results_database/text_wall_street_big.hdf5'\n",
    "f = h5py.File(file_location, 'r')\n",
    "\n",
    "# Now we need to get the letters and align them\n",
    "text_directory = '../data/wall_street_letters.npy'\n",
    "letters_sequence = np.load(text_directory)\n",
    "Nletters = len(letters_sequence)\n",
    "symbols = set(letters_sequence)\n",
    "\n",
    "# Load the particular example\n",
    "Nspatial_clusters = 5\n",
    "Ntime_clusters = 15\n",
    "Nembedding = 3\n",
    "\n",
    "run_name = '/low-resolution'\n",
    "parameters_string = '/' + str(Nspatial_clusters)\n",
    "parameters_string += '-' + str(Ntime_clusters)\n",
    "parameters_string += '-' + str(Nembedding)\n",
    "\n",
    "nexa = f[run_name + parameters_string]\n",
    "\n",
    "# Now we load the time and the code vectors\n",
    "time = nexa['time']\n",
    "code_vectors = nexa['code-vectors']\n",
    "code_vectors_distance = nexa['code-vectors-distance']\n",
    "code_vectors_softmax = nexa['code-vectors-softmax']\n",
    "code_vectors_winner = nexa['code-vectors-winner']"
   ]
  },
  {
   "cell_type": "markdown",
   "metadata": {},
   "source": [
    "### Make the predictions"
   ]
  },
  {
   "cell_type": "code",
   "execution_count": 14,
   "metadata": {
    "collapsed": true
   },
   "outputs": [],
   "source": [
    "data_ammount = np.logspace(2, 5, 30, dtype='int')\n",
    "delay = 4\n",
    "accuracy = []"
   ]
  },
  {
   "cell_type": "code",
   "execution_count": 15,
   "metadata": {
    "collapsed": false
   },
   "outputs": [
    {
     "name": "stdout",
     "output_type": "stream",
     "text": [
      "N_data 100\n",
      "SVM score 60.0\n",
      "N_data 126\n",
      "SVM score 46.1538461538\n",
      "N_data 161\n",
      "SVM score 43.75\n",
      "N_data 204\n",
      "SVM score 50.0\n",
      "N_data 259\n",
      "SVM score 53.8461538462\n",
      "N_data 329\n",
      "SVM score 60.6060606061\n",
      "N_data 417\n",
      "SVM score 59.5238095238\n",
      "N_data 529\n",
      "SVM score 60.3773584906\n",
      "N_data 672\n",
      "SVM score 64.1791044776\n",
      "N_data 853\n",
      "SVM score 67.0588235294\n",
      "N_data 1082\n",
      "SVM score 57.4074074074\n",
      "N_data 1373\n",
      "SVM score 76.6423357664\n",
      "N_data 1743\n",
      "SVM score 64.9425287356\n",
      "N_data 2212\n",
      "SVM score 67.8733031674\n",
      "N_data 2807\n",
      "SVM score 67.2597864769\n",
      "N_data 3562\n",
      "SVM score 68.5393258427\n",
      "N_data 4520\n",
      "SVM score 70.796460177\n",
      "N_data 5736\n",
      "SVM score 69.6864111498\n",
      "N_data 7278\n",
      "SVM score 69.0934065934\n",
      "N_data 9236\n",
      "SVM score 67.7489177489\n",
      "N_data 11721\n",
      "SVM score 66.638225256\n",
      "N_data 14873\n",
      "SVM score 69.3342299933\n",
      "N_data 18873\n",
      "SVM score 68.5214626391\n",
      "N_data 23950\n",
      "SVM score 68.3089770355\n",
      "N_data 30391\n",
      "SVM score 70.3191839421\n",
      "N_data 38566\n",
      "SVM score 69.7951775992\n",
      "N_data 48939\n",
      "SVM score 69.6771557009\n",
      "N_data 62101\n",
      "SVM score 68.0032206119\n",
      "N_data 78804\n",
      "SVM score 68.730964467\n",
      "N_data 100000\n",
      "SVM score 69.63\n",
      "Analysis donde\n"
     ]
    }
   ],
   "source": [
    "# Make prediction with scikit-learn\n",
    "for N in data_ammount:\n",
    "    X = code_vectors_winner[:(N - delay)]\n",
    "    y = letters_sequence[delay:N]\n",
    "    X_train, X_test, y_train, y_test = cross_validation.train_test_split(X, y, test_size=0.10)\n",
    "\n",
    "    clf = svm.SVC(C=1.0, cache_size=200, kernel='linear')\n",
    "    clf.fit(X_train, y_train)\n",
    "    score = clf.score(X_test, y_test) * 100.0\n",
    "    print('N_data', N)\n",
    "    print('SVM score', score)\n",
    "    accuracy.append(score)\n",
    "\n",
    "print('Analysis donde')"
   ]
  },
  {
   "cell_type": "markdown",
   "metadata": {},
   "source": [
    "### Plot the Accuracy as a function of the ammount of  data"
   ]
  },
  {
   "cell_type": "code",
   "execution_count": 25,
   "metadata": {
    "collapsed": false
   },
   "outputs": [
    {
     "data": {
      "image/png": "[encoded data removed]",
      "text/plain": [
       "<matplotlib.figure.Figure at 0x7fa27e5cbf98>"
      ]
     },
     "metadata": {},
     "output_type": "display_data"
    }
   ],
   "source": [
    "# Plot this\n",
    "import matplotlib.pyplot as plt\n",
    "import seaborn as sns\n",
    "%matplotlib inline\n",
    "plt.plot(data_ammount, accuracy, 'o-', lw=2, markersize=10)\n",
    "plt.xlabel('Total Data')\n",
    "plt.ylabel('Accuracy %')\n",
    "plt.title('Accuracy vs Amount of Data')\n",
    "plt.ylim([0, 110])\n",
    "plt.xscale('log')\n",
    "fig = plt.gcf()\n",
    "fig.set_size_inches((12, 9))"
   ]
  },
  {
   "cell_type": "code",
   "execution_count": null,
   "metadata": {
    "collapsed": true
   },
   "outputs": [],
   "source": []
  }
 ],
 "metadata": {
  "kernelspec": {
   "display_name": "Python 3",
   "language": "python",
   "name": "python3"
  },
  "language_info": {
   "codemirror_mode": {
    "name": "ipython",
    "version": 3
   },
   "file_extension": ".py",
   "mimetype": "text/x-python",
   "name": "python",
   "nbconvert_exporter": "python",
   "pygments_lexer": "ipython3",
   "version": "3.5.1"
  }
 },
 "nbformat": 4,
 "nbformat_minor": 0
}
