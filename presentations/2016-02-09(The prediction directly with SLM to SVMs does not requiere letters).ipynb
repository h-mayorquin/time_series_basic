{
 "cells": [
  {
   "cell_type": "markdown",
   "metadata": {},
   "source": [
    "# Prediction with SVMs over SLM. \n",
    "In this notebook I confirm that the good performance that I get with the letters does not depend on some quirk involved with the fact that the letters (that is the targers) are represented as text and not as number"
   ]
  },
  {
   "cell_type": "markdown",
   "metadata": {},
   "source": [
    "#### Libraries and files\n"
   ]
  },
  {
   "cell_type": "code",
   "execution_count": 1,
   "metadata": {
    "collapsed": true
   },
   "outputs": [],
   "source": [
    "import numpy as np\n",
    "import h5py\n",
    "from sklearn import svm, cross_validation, preprocessing"
   ]
  },
  {
   "cell_type": "code",
   "execution_count": 2,
   "metadata": {
    "collapsed": false
   },
   "outputs": [],
   "source": [
    "# First we load the file \n",
    "file_location = '../results_database/text_wall_street_big.hdf5'\n",
    "run_name = '/low-resolution'\n",
    "f = h5py.File(file_location, 'r')\n",
    "\n",
    "# Now we need to get the letters and align them\n",
    "text_directory = '../data/wall_street_letters.npy'\n",
    "letters_sequence = np.load(text_directory)\n",
    "Nletters = len(letters_sequence)\n",
    "symbols = set(letters_sequence)\n",
    "\n"
   ]
  },
  {
   "cell_type": "markdown",
   "metadata": {},
   "source": [
    "Now we transform the letters into number with a dictionary\n"
   ]
  },
  {
   "cell_type": "code",
   "execution_count": 3,
   "metadata": {
    "collapsed": true
   },
   "outputs": [],
   "source": [
    "symbol_to_number = {}\n",
    "\n",
    "for number, symbol in enumerate(symbols):\n",
    "    symbol_to_number[symbol] = number\n",
    "\n",
    "letters_sequence = [symbol_to_number[letter] for letter in letters_sequence]"
   ]
  },
  {
   "cell_type": "markdown",
   "metadata": {},
   "source": [
    "#### Load nexa with its parameters"
   ]
  },
  {
   "cell_type": "code",
   "execution_count": 4,
   "metadata": {
    "collapsed": true
   },
   "outputs": [],
   "source": [
    "# Nexa parameters\n",
    "Nspatial_clusters = 5\n",
    "Ntime_clusters = 15\n",
    "Nembedding = 3\n",
    "\n",
    "parameters_string = '/' + str(Nspatial_clusters)\n",
    "parameters_string += '-' + str(Ntime_clusters)\n",
    "parameters_string += '-' + str(Nembedding)\n",
    "\n",
    "nexa = f[run_name + parameters_string]"
   ]
  },
  {
   "cell_type": "markdown",
   "metadata": {},
   "source": [
    "#### Now we make the predictions"
   ]
  },
  {
   "cell_type": "code",
   "execution_count": 5,
   "metadata": {
    "collapsed": true
   },
   "outputs": [],
   "source": [
    "delay = 4\n",
    "N = 5000\n",
    "cache_size = 1000"
   ]
  },
  {
   "cell_type": "code",
   "execution_count": 6,
   "metadata": {
    "collapsed": false
   },
   "outputs": [
    {
     "name": "stdout",
     "output_type": "stream",
     "text": [
      "Standarized\n",
      "Score in linear 98.8\n",
      "Score in rbf 97.6\n",
      "Not standarized\n",
      "Score in linear 99.6\n",
      "Score in rbf 99.6\n"
     ]
    }
   ],
   "source": [
    "# Exctrat and normalized SLM\n",
    "SLM = np.array(f[run_name]['SLM'])\n",
    "\n",
    "print('Standarized')\n",
    "X = SLM[:,:(N - delay)].T\n",
    "y = letters_sequence[delay:N]\n",
    "# We now scale X\n",
    "X = preprocessing.scale(X)\n",
    "X_train, X_test, y_train, y_test = cross_validation.train_test_split(X, y, test_size=0.10)\n",
    "\n",
    "clf_linear = svm.SVC(C=1.0, cache_size=cache_size, kernel='linear')\n",
    "clf_linear.fit(X_train, y_train)\n",
    "score = clf_linear.score(X_test, y_test) * 100.0\n",
    "print('Score in linear', score)\n",
    "\n",
    "clf_rbf = svm.SVC(C=1.0, cache_size=cache_size, kernel='rbf')\n",
    "clf_rbf.fit(X_train, y_train)\n",
    "score = clf_rbf.score(X_test, y_test) * 100.0\n",
    "print('Score in rbf', score)\n",
    "\n",
    "print('Not standarized')\n",
    "X = SLM[:,:(N - delay)].T\n",
    "y = letters_sequence[delay:N]\n",
    "\n",
    "# We now scale X\n",
    "X_train, X_test, y_train, y_test = cross_validation.train_test_split(X, y, test_size=0.10)\n",
    "\n",
    "clf_linear = svm.SVC(C=1.0, cache_size=cache_size, kernel='linear')\n",
    "clf_linear.fit(X_train, y_train)\n",
    "score = clf_linear.score(X_test, y_test) * 100.0\n",
    "print('Score in linear', score)\n",
    "\n",
    "clf_rbf = svm.SVC(C=1.0, cache_size=cache_size, kernel='linear')\n",
    "clf_rbf.fit(X_train, y_train)\n",
    "score = clf_rbf.score(X_test, y_test) * 100.0\n",
    "print('Score in rbf', score)"
   ]
  }
 ],
 "metadata": {
  "kernelspec": {
   "display_name": "Python 3",
   "language": "python",
   "name": "python3"
  },
  "language_info": {
   "codemirror_mode": {
    "name": "ipython",
    "version": 3
   },
   "file_extension": ".py",
   "mimetype": "text/x-python",
   "name": "python",
   "nbconvert_exporter": "python",
   "pygments_lexer": "ipython3",
   "version": "3.5.1"
  }
 },
 "nbformat": 4,
 "nbformat_minor": 0
}
