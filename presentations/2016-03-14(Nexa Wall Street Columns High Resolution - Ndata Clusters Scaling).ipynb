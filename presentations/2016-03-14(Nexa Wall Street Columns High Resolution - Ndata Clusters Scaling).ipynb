{
 "cells": [
  {
   "cell_type": "markdown",
   "metadata": {},
   "source": [
    "# Nexa wall street columns high resolution (30 x 30), Ndata clustering scaling. \n",
    "In this book we test how the accuracy of the predictions for next letter and same letter change as a number of the Ndata clusters varies"
   ]
  },
  {
   "cell_type": "code",
   "execution_count": 1,
   "metadata": {
    "collapsed": false
   },
   "outputs": [
    {
     "name": "stderr",
     "output_type": "stream",
     "text": [
      "/home/heberto/miniconda/envs/nexa/lib/python3.5/site-packages/matplotlib/__init__.py:872: UserWarning: axes.color_cycle is deprecated and replaced with axes.prop_cycle; please use the latter.\n",
      "  warnings.warn(self.msg_depr % (key, alt_key))\n"
     ]
    }
   ],
   "source": [
    "import numpy as np\n",
    "from sklearn import svm, cross_validation\n",
    "from sklearn.discriminant_analysis import LinearDiscriminantAnalysis\n",
    "import h5py\n",
    "\n",
    "import matplotlib.pyplot as plt\n",
    "import seaborn as sns\n",
    "%matplotlib inline\n",
    "\n",
    "import sys\n",
    "sys.path.append(\"../\")"
   ]
  },
  {
   "cell_type": "markdown",
   "metadata": {},
   "source": [
    "## Same letter"
   ]
  },
  {
   "cell_type": "markdown",
   "metadata": {},
   "source": [
    "#### Load the data"
   ]
  },
  {
   "cell_type": "code",
   "execution_count": 2,
   "metadata": {
    "collapsed": false
   },
   "outputs": [
    {
     "name": "stdout",
     "output_type": "stream",
     "text": [
      "[(0, 'p'), (1, 'p'), (2, 'p'), (3, 'p'), (4, 'p'), (5, 'p'), (6, 'p'), (7, 'p'), (8, 'p'), (9, 'p'), (10, 'p'), (11, 'p'), (12, 'p'), (13, 'p'), (14, 'p'), (15, 'p'), (16, 'p'), (17, 'p'), (18, 'p'), (19, 'p'), (20, 'p'), (21, 'p'), (22, 'p'), (23, 'p'), (24, 'p'), (25, 'p'), (26, 'p'), (27, 'p'), (28, 'p'), (29, 'p'), (30, 'i'), (31, 'i'), (32, 'i'), (33, 'i'), (34, 'i'), (35, 'i'), (36, 'i'), (37, 'i'), (38, 'i'), (39, 'i')]\n"
     ]
    }
   ],
   "source": [
    "# Data to use\n",
    "Ndata = 5000\n",
    "Nside = 30\n",
    "\n",
    "# First we load the file \n",
    "file_location = '../results_database/text_wall_street_columns_30.hdf5'\n",
    "\n",
    "# Now we need to get the letters and align them\n",
    "text_directory = '../data/wall_street_letters_30.npy'\n",
    "letters_sequence = np.load(text_directory)\n",
    "Nletters = len(letters_sequence)\n",
    "symbols = set(letters_sequence)\n",
    "\n",
    "targets = []\n",
    "\n",
    "for index in range(Ndata):\n",
    "    letter_index = index // Nside\n",
    "    targets.append(letters_sequence[letter_index])\n",
    "\n",
    "# Transform to array\n",
    "targets = np.array(targets)\n",
    "print(list(enumerate(targets[0:40])))"
   ]
  },
  {
   "cell_type": "code",
   "execution_count": 3,
   "metadata": {
    "collapsed": true
   },
   "outputs": [],
   "source": [
    "# Calculate the predictions     \n",
    "\n",
    "scores_mixed = []\n",
    "scores_indp = []\n",
    "\n",
    "Ntime_clusters_set = np.arange(10, 55, 5)\n",
    "# Ntime_clusters_set = np.arange(10, 25, 5)\n",
    "\n",
    "# Nexa parameters\n",
    "max_lag = 10 \n",
    "Nembedding = 3\n",
    "Nspatial_clusters = max_lag"
   ]
  },
  {
   "cell_type": "code",
   "execution_count": 4,
   "metadata": {
    "collapsed": false
   },
   "outputs": [
    {
     "name": "stderr",
     "output_type": "stream",
     "text": [
      "/home/heberto/miniconda/envs/nexa/lib/python3.5/site-packages/sklearn/discriminant_analysis.py:453: UserWarning: The priors do not sum to 1. Renormalizing\n",
      "  UserWarning)\n",
      "/home/heberto/miniconda/envs/nexa/lib/python3.5/site-packages/sklearn/discriminant_analysis.py:387: UserWarning: Variables are collinear.\n",
      "  warnings.warn(\"Variables are collinear.\")\n"
     ]
    },
    {
     "name": "stdout",
     "output_type": "stream",
     "text": [
      "10\n",
      "15\n",
      "20\n",
      "25\n",
      "30\n",
      "35\n",
      "40\n",
      "45\n",
      "50\n"
     ]
    }
   ],
   "source": [
    "for Ntime_clusters in Ntime_clusters_set:\n",
    "    \n",
    "    print(Ntime_clusters)\n",
    "    Nspatial_clusters = max_lag\n",
    "    # Here calculate the scores for the mixes\n",
    "    run_name = '/test'\n",
    "    f = h5py.File(file_location, 'r')\n",
    "\n",
    "    parameters_string = '/' + str(Nspatial_clusters)\n",
    "    parameters_string += '-' + str(Ntime_clusters)\n",
    "    parameters_string += '-' + str(Nembedding)\n",
    "\n",
    "    nexa = f[run_name + parameters_string]\n",
    "    cluster_to_index = nexa['cluster_to_index']\n",
    "    code_vectors_softmax = np.array(nexa['code-vectors-softmax'])\n",
    "\n",
    "    # Now we need to classify\n",
    "    X  = code_vectors_softmax[:Ndata]\n",
    "    y = targets\n",
    "    X_train, X_test, y_train, y_test = cross_validation.train_test_split(X, y, test_size=0.10)\n",
    "\n",
    "    clf_linear = LinearDiscriminantAnalysis()\n",
    "    clf_linear.fit(X_train, y_train)\n",
    "    score = clf_linear.score(X_test, y_test) * 100.0\n",
    "    scores_mixed.append(score)\n",
    "\n",
    "    # Here calculate the scores for the independent\n",
    "    run_name = '/indep'\n",
    "    f = h5py.File(file_location, 'r')\n",
    "    \n",
    "    parameters_string = '/' + str(Nspatial_clusters)\n",
    "    parameters_string += '-' + str(Ntime_clusters)\n",
    "    parameters_string += '-' + str(Nembedding)\n",
    "\n",
    "    nexa = f[run_name + parameters_string]\n",
    "    cluster_to_index = nexa['cluster_to_index']\n",
    "    code_vectors_softmax = np.array(nexa['code-vectors-distance'])\n",
    "\n",
    "    # Now we need to classify\n",
    "    X  = code_vectors_softmax[:Ndata]\n",
    "    y = targets\n",
    "    X_train, X_test, y_train, y_test = cross_validation.train_test_split(X, y, test_size=0.10)\n",
    "\n",
    "    clf_linear = LinearDiscriminantAnalysis()\n",
    "    clf_linear.fit(X_train, y_train)\n",
    "    score = clf_linear.score(X_test, y_test) * 100.0\n",
    "    scores_indp.append(score)"
   ]
  },
  {
   "cell_type": "code",
   "execution_count": 5,
   "metadata": {
    "collapsed": false
   },
   "outputs": [
    {
     "data": {
      "text/plain": [
       "<matplotlib.legend.Legend at 0x7f9406d8f630>"
      ]
     },
     "execution_count": 5,
     "metadata": {},
     "output_type": "execute_result"
    },
    {
     "data": {
      "image/png": "[encoded data removed]",
      "text/plain": [
       "<matplotlib.figure.Figure at 0x7f940726f0b8>"
      ]
     },
     "metadata": {},
     "output_type": "display_data"
    }
   ],
   "source": [
    "fig = plt.figure(figsize=(16, 12))\n",
    "ax = fig.add_subplot(111)\n",
    "ax.plot(Ntime_clusters_set,scores_indp, 'o-', label='independent', lw=2, markersize=10)\n",
    "ax.plot(Ntime_clusters_set, scores_mixed, 'o-', label='mixed', lw=2, markersize=10)\n",
    "\n",
    "ax.set_ylim(0, 105)\n",
    "ax.set_ylabel('Accuracy')\n",
    "ax.set_xlabel('Max lags')\n",
    "ax.set_title('Accuracy vs Ndata_clusters (Same letter)')\n",
    "ax.legend()"
   ]
  },
  {
   "cell_type": "markdown",
   "metadata": {},
   "source": [
    "## Next Letter"
   ]
  },
  {
   "cell_type": "markdown",
   "metadata": {},
   "source": [
    "#### Load the data"
   ]
  },
  {
   "cell_type": "code",
   "execution_count": 6,
   "metadata": {
    "collapsed": false
   },
   "outputs": [
    {
     "name": "stdout",
     "output_type": "stream",
     "text": [
      "[(0, 'i'), (1, 'i'), (2, 'i'), (3, 'i'), (4, 'i'), (5, 'i'), (6, 'i'), (7, 'i'), (8, 'i'), (9, 'i'), (10, 'i'), (11, 'i'), (12, 'i'), (13, 'i'), (14, 'i'), (15, 'i'), (16, 'i'), (17, 'i'), (18, 'i'), (19, 'i'), (20, 'i'), (21, 'i'), (22, 'i'), (23, 'i'), (24, 'i'), (25, 'i'), (26, 'i'), (27, 'i'), (28, 'i'), (29, 'i'), (30, 'e'), (31, 'e'), (32, 'e'), (33, 'e'), (34, 'e'), (35, 'e'), (36, 'e'), (37, 'e'), (38, 'e'), (39, 'e')]\n"
     ]
    }
   ],
   "source": [
    "# Data to use\n",
    "Ndata = 5000\n",
    "Nside = 30\n",
    "\n",
    "# First we load the file \n",
    "file_location = '../results_database/text_wall_street_columns_30.hdf5'\n",
    "\n",
    "# Now we need to get the letters and align them\n",
    "text_directory = '../data/wall_street_letters_30.npy'\n",
    "letters_sequence = np.load(text_directory)\n",
    "Nletters = len(letters_sequence)\n",
    "symbols = set(letters_sequence)\n",
    "\n",
    "targets = []\n",
    "\n",
    "for index in range(Ndata):\n",
    "    letter_index = index // Nside\n",
    "    targets.append(letters_sequence[letter_index + 1])\n",
    "\n",
    "# Transform to array\n",
    "targets = np.array(targets)\n",
    "print(list(enumerate(targets[0:40])))"
   ]
  },
  {
   "cell_type": "markdown",
   "metadata": {},
   "source": [
    "#### Do the loop and calculate the estimations"
   ]
  },
  {
   "cell_type": "code",
   "execution_count": 7,
   "metadata": {
    "collapsed": true
   },
   "outputs": [],
   "source": [
    "# Calculate the predictions     \n",
    "\n",
    "scores_mixed = []\n",
    "scores_indp = []\n",
    "\n",
    "Ntime_clusters_set = np.arange(10, 55, 5)\n",
    "# Ntime_clusters_set = np.arange(10, 25, 5)\n",
    "\n",
    "# Nexa parameters\n",
    "max_lag = 10 \n",
    "Nembedding = 3\n",
    "Nspatial_clusters = max_lag"
   ]
  },
  {
   "cell_type": "code",
   "execution_count": 8,
   "metadata": {
    "collapsed": false
   },
   "outputs": [
    {
     "name": "stderr",
     "output_type": "stream",
     "text": [
      "/home/heberto/miniconda/envs/nexa/lib/python3.5/site-packages/sklearn/discriminant_analysis.py:387: UserWarning: Variables are collinear.\n",
      "  warnings.warn(\"Variables are collinear.\")\n",
      "/home/heberto/miniconda/envs/nexa/lib/python3.5/site-packages/sklearn/discriminant_analysis.py:453: UserWarning: The priors do not sum to 1. Renormalizing\n",
      "  UserWarning)\n"
     ]
    },
    {
     "name": "stdout",
     "output_type": "stream",
     "text": [
      "10\n",
      "15\n",
      "20\n",
      "25\n",
      "30\n",
      "35\n",
      "40\n",
      "45\n",
      "50\n"
     ]
    }
   ],
   "source": [
    "for Ntime_clusters in Ntime_clusters_set:\n",
    "    \n",
    "    print(Ntime_clusters)\n",
    "    Nspatial_clusters = max_lag\n",
    "    # Here calculate the scores for the mixes\n",
    "    run_name = '/test'\n",
    "    f = h5py.File(file_location, 'r')\n",
    "\n",
    "    parameters_string = '/' + str(Nspatial_clusters)\n",
    "    parameters_string += '-' + str(Ntime_clusters)\n",
    "    parameters_string += '-' + str(Nembedding)\n",
    "\n",
    "    nexa = f[run_name + parameters_string]\n",
    "    cluster_to_index = nexa['cluster_to_index']\n",
    "    code_vectors_softmax = np.array(nexa['code-vectors-softmax'])\n",
    "\n",
    "    # Now we need to classify\n",
    "    X  = code_vectors_softmax[:Ndata]\n",
    "    y = targets\n",
    "    X_train, X_test, y_train, y_test = cross_validation.train_test_split(X, y, test_size=0.10)\n",
    "\n",
    "    clf_linear = LinearDiscriminantAnalysis()\n",
    "    \n",
    "    clf_linear.fit(X_train, y_train)\n",
    "    score = clf_linear.score(X_test, y_test) * 100.0\n",
    "    scores_mixed.append(score)\n",
    "\n",
    "    # Here calculate the scores for the independent\n",
    "    run_name = '/indep'\n",
    "    f = h5py.File(file_location, 'r')\n",
    "    \n",
    "    parameters_string = '/' + str(Nspatial_clusters)\n",
    "    parameters_string += '-' + str(Ntime_clusters)\n",
    "    parameters_string += '-' + str(Nembedding)\n",
    "\n",
    "    nexa = f[run_name + parameters_string]\n",
    "    cluster_to_index = nexa['cluster_to_index']\n",
    "    code_vectors_softmax = np.array(nexa['code-vectors-distance'])\n",
    "\n",
    "    # Now we need to classify\n",
    "    X  = code_vectors_softmax[:Ndata]\n",
    "    y = targets\n",
    "    X_train, X_test, y_train, y_test = cross_validation.train_test_split(X, y, test_size=0.10)\n",
    "\n",
    "    clf_linear = LinearDiscriminantAnalysis()\n",
    "    clf_linear.fit(X_train, y_train)\n",
    "    score = clf_linear.score(X_test, y_test) * 100.0\n",
    "    scores_indp.append(score)"
   ]
  },
  {
   "cell_type": "code",
   "execution_count": 9,
   "metadata": {
    "collapsed": false
   },
   "outputs": [
    {
     "data": {
      "text/plain": [
       "<matplotlib.legend.Legend at 0x7f9406f898d0>"
      ]
     },
     "execution_count": 9,
     "metadata": {},
     "output_type": "execute_result"
    },
    {
     "data": {
      "image/png": "[encoded data removed]",
      "text/plain": [
       "<matplotlib.figure.Figure at 0x7f9406d0ef98>"
      ]
     },
     "metadata": {},
     "output_type": "display_data"
    }
   ],
   "source": [
    "fig = plt.figure(figsize=(16, 12))\n",
    "ax = fig.add_subplot(111)\n",
    "ax.plot(Ntime_clusters_set,scores_indp, 'o-', label='independent', lw=2, markersize=10)\n",
    "ax.plot(Ntime_clusters_set, scores_mixed, 'o-', label='mixed', lw=2, markersize=10)\n",
    "\n",
    "ax.set_ylim(0, 105)\n",
    "ax.set_ylabel('Accuracy')\n",
    "ax.set_xlabel('Max lags')\n",
    "ax.set_title('Accuracy vs Ndata_clusters (Next letter)')\n",
    "ax.legend()"
   ]
  }
 ],
 "metadata": {
  "kernelspec": {
   "display_name": "Python 3",
   "language": "python",
   "name": "python3"
  },
  "language_info": {
   "codemirror_mode": {
    "name": "ipython",
    "version": 3
   },
   "file_extension": ".py",
   "mimetype": "text/x-python",
   "name": "python",
   "nbconvert_exporter": "python",
   "pygments_lexer": "ipython3",
   "version": "3.5.1"
  }
 },
 "nbformat": 4,
 "nbformat_minor": 0
}
