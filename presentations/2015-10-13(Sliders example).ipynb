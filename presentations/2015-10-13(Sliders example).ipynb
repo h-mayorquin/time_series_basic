{
 "cells": [
  {
   "cell_type": "markdown",
   "metadata": {},
   "source": [
    "# Exploring the interactive widgets of ipython\n",
    "Learn how to play with them."
   ]
  },
  {
   "cell_type": "code",
   "execution_count": 25,
   "metadata": {
    "collapsed": false
   },
   "outputs": [],
   "source": [
    "import numpy as np\n",
    "import matplotlib.pyplot as plt\n",
    "import seaborn as sns\n",
    "\n",
    "# Plot inline\n",
    "%matplotlib inline\n",
    "\n",
    "# Add the proper path\n",
    "import sys\n",
    "sys.path.append(\"../\")\n",
    "\n",
    "# Local libraries\n",
    "from signals.aux_functions import gaussian_bump, combine_gaussian_bumps\n",
    "from inputs.sensors import Sensor, PerceptualSpace\n",
    "from inputs.lag_structure import LagStructure\n",
    "\n",
    "# Widgets library\n",
    "from ipywidgets import interact, interactive, fixed\n",
    "from IPython.display import display"
   ]
  },
  {
   "cell_type": "code",
   "execution_count": 26,
   "metadata": {
    "collapsed": false
   },
   "outputs": [],
   "source": [
    "Tmax = 1000\n",
    "dt = 1.0\n",
    "time = np.arange(0, Tmax, dt)"
   ]
  },
  {
   "cell_type": "markdown",
   "metadata": {},
   "source": [
    "First we define the parameters for the gaussian bumpbs"
   ]
  },
  {
   "cell_type": "code",
   "execution_count": 27,
   "metadata": {
    "collapsed": false
   },
   "outputs": [],
   "source": [
    "max_rate = 100\n",
    "base = 10\n",
    "value = 30\n",
    "attenuation = 2\n",
    "\n",
    "center1 = 200\n",
    "center2 = 500\n",
    "center3 = 750"
   ]
  },
  {
   "cell_type": "markdown",
   "metadata": {
    "collapsed": true
   },
   "source": [
    "### One gaussian bump\n",
    "We define a function that passes all the parameters in order to build a slider. Then we plot it."
   ]
  },
  {
   "cell_type": "code",
   "execution_count": 28,
   "metadata": {
    "collapsed": false
   },
   "outputs": [],
   "source": [
    "def plot_gaussian_bump(mu, Max, base, value, a):\n",
    "    plt.plot(time, gaussian_bump(time, mu, Max, base, value, a))\n",
    "    plt.ylim([0, 120])"
   ]
  },
  {
   "cell_type": "code",
   "execution_count": 29,
   "metadata": {
    "collapsed": false
   },
   "outputs": [
    {
     "data": {
      "text/plain": [
       "<function __main__.plot_gaussian_bump2>"
      ]
     },
     "execution_count": 29,
     "metadata": {},
     "output_type": "execute_result"
    },
    {
     "data": {
      "image/png": "[encoded data removed]",
      "text/plain": [
       "<matplotlib.figure.Figure at 0x7f249d4a6550>"
      ]
     },
     "metadata": {},
     "output_type": "display_data"
    }
   ],
   "source": [
    "interact(plot_gaussian_bump2, mu=(100, 1000), Max=(60, 100), \n",
    "         base=(0, 25), value=(10, 100), a=(2.0, 3.0, 0.1))"
   ]
  },
  {
   "cell_type": "markdown",
   "metadata": {
    "collapsed": false
   },
   "source": [
    "### A train of gaussian bumps"
   ]
  },
  {
   "cell_type": "code",
   "execution_count": 32,
   "metadata": {
    "collapsed": true
   },
   "outputs": [],
   "source": [
    "def plot_gaussian_train(mu1, mu2, mu3, Max, base, value):\n",
    "    # Create the gaussian bumpbs\n",
    "    gb1 = gaussian_bump(time,  mu1, Max, base, value, attenuation)\n",
    "    gb2 = gaussian_bump(time,  mu2, Max, base, value, attenuation)\n",
    "    gb3 = gaussian_bump(time,  mu3, Max, base, value, attenuation)\n",
    "\n",
    "    # Combine them\n",
    "    aux = [gb1, gb2, gb3]  # A list of functions\n",
    "    gaussian_train = combine_gaussian_bumps(aux, base)\n",
    "    plt.plot(time, gaussian_train)\n",
    "    plt.ylim([0, 200])"
   ]
  },
  {
   "cell_type": "code",
   "execution_count": 33,
   "metadata": {
    "collapsed": false
   },
   "outputs": [
    {
     "data": {
      "image/png": "[encoded data removed]",
      "text/plain": [
       "<matplotlib.figure.Figure at 0x7f249d4a3400>"
      ]
     },
     "metadata": {},
     "output_type": "display_data"
    }
   ],
   "source": [
    "interact(plot_gaussian_train, mu1=(100, 1000), mu2=(100, 1000), mu3=(100, 1000), \n",
    "         Max=(60, 100), base=(0, 25), value=(10, 100))"
   ]
  }
 ],
 "metadata": {
  "kernelspec": {
   "display_name": "Python 3",
   "language": "python",
   "name": "python3"
  },
  "language_info": {
   "codemirror_mode": {
    "name": "ipython",
    "version": 3
   },
   "file_extension": ".py",
   "mimetype": "text/x-python",
   "name": "python",
   "nbconvert_exporter": "python",
   "pygments_lexer": "ipython3",
   "version": "3.5.0"
  }
 },
 "nbformat": 4,
 "nbformat_minor": 0
}
