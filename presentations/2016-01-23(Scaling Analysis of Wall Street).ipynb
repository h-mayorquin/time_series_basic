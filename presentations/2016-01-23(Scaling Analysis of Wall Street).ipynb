{
 "cells": [
  {
   "cell_type": "markdown",
   "metadata": {},
   "source": [
    "# Scaling analysis of Nexa on Wall Street\n",
    "Here I will present a scaling analysis of Nexa wall street with regards to the number of clusters in the sensors  space and the number of clusters in the data space."
   ]
  },
  {
   "cell_type": "markdown",
   "metadata": {},
   "source": [
    "#### Load the libraries"
   ]
  },
  {
   "cell_type": "code",
   "execution_count": 1,
   "metadata": {
    "collapsed": true
   },
   "outputs": [],
   "source": [
    "import numpy as np\n",
    "import h5py\n",
    "from sklearn import svm, cross_validation"
   ]
  },
  {
   "cell_type": "markdown",
   "metadata": {},
   "source": [
    "#### Load database, letters and main parameters"
   ]
  },
  {
   "cell_type": "code",
   "execution_count": 2,
   "metadata": {
    "collapsed": false
   },
   "outputs": [],
   "source": [
    "# First we load the file \n",
    "file_location = '../results_database/text_wall_street_big.hdf5'\n",
    "f = h5py.File(file_location, 'r')\n",
    "\n",
    "# Now we need to get the letters and align them\n",
    "text_directory = '../data/wall_street_letters.npy'\n",
    "letters_sequence = np.load(text_directory)\n",
    "Nletters = len(letters_sequence)\n",
    "symbols = set(letters_sequence)"
   ]
  },
  {
   "cell_type": "markdown",
   "metadata": {},
   "source": [
    "#### Prediction loop"
   ]
  },
  {
   "cell_type": "code",
   "execution_count": 3,
   "metadata": {
    "collapsed": true
   },
   "outputs": [],
   "source": [
    "N = 5000  # Amount of data\n",
    "delay = 5\n",
    "Nembedding = 3 \n",
    "\n",
    "# Quantities to scale\n",
    "time_clustering_collection = np.arange(5, 55, 5)\n",
    "spatial_clustering_collection = np.arange(3, 11, 1)\n",
    "\n",
    "N_time_clusters = time_clustering_collection.size\n",
    "N_spatial_clusters = spatial_clustering_collection.size\n",
    "accuracy = np.zeros((N_time_clusters, N_spatial_clusters))"
   ]
  },
  {
   "cell_type": "code",
   "execution_count": 4,
   "metadata": {
    "collapsed": false
   },
   "outputs": [
    {
     "name": "stdout",
     "output_type": "stream",
     "text": [
      "/3-5-3\n",
      "SVM score 34.2\n",
      "/3-10-3\n",
      "SVM score 76.8\n",
      "/3-15-3\n",
      "SVM score 45.0\n",
      "/3-20-3\n",
      "SVM score 53.4\n",
      "/3-25-3\n",
      "SVM score 92.6\n",
      "/3-30-3\n",
      "SVM score 59.6\n",
      "/3-35-3\n",
      "SVM score 98.0\n",
      "/3-40-3\n",
      "SVM score 67.8\n",
      "/3-45-3\n",
      "SVM score 97.6\n",
      "/3-50-3\n",
      "SVM score 99.2\n",
      "/4-5-3\n",
      "SVM score 48.8\n",
      "/4-10-3\n",
      "SVM score 75.8\n",
      "/4-15-3\n",
      "SVM score 53.6\n",
      "/4-20-3\n",
      "SVM score 89.6\n",
      "/4-25-3\n",
      "SVM score 58.0\n",
      "/4-30-3\n",
      "SVM score 83.0\n",
      "/4-35-3\n",
      "SVM score 95.8\n",
      "/4-40-3\n",
      "SVM score 73.4\n",
      "/4-45-3\n",
      "SVM score 99.2\n",
      "/4-50-3\n",
      "SVM score 99.0\n",
      "/5-5-3\n",
      "SVM score 42.0\n",
      "/5-10-3\n",
      "SVM score 54.4\n",
      "/5-15-3\n",
      "SVM score 85.2\n",
      "/5-20-3\n",
      "SVM score 65.6\n",
      "/5-25-3\n",
      "SVM score 66.2\n",
      "/5-30-3\n",
      "SVM score 97.6\n",
      "/5-35-3\n",
      "SVM score 81.8\n",
      "/5-40-3\n",
      "SVM score 98.8\n",
      "/5-45-3\n",
      "SVM score 97.4\n",
      "/5-50-3\n",
      "SVM score 73.6\n",
      "/6-5-3\n",
      "SVM score 54.2\n",
      "/6-10-3\n",
      "SVM score 75.4\n",
      "/6-15-3\n",
      "SVM score 91.2\n",
      "/6-20-3\n",
      "SVM score 73.6\n",
      "/6-25-3\n",
      "SVM score 93.6\n",
      "/6-30-3\n",
      "SVM score 74.6\n",
      "/6-35-3\n",
      "SVM score 97.0\n",
      "/6-40-3\n",
      "SVM score 96.4\n",
      "/6-45-3\n",
      "SVM score 98.4\n",
      "/6-50-3\n",
      "SVM score 98.0\n",
      "/7-5-3\n",
      "SVM score 55.8\n",
      "/7-10-3\n",
      "SVM score 79.4\n",
      "/7-15-3\n",
      "SVM score 91.4\n",
      "/7-20-3\n",
      "SVM score 95.6\n",
      "/7-25-3\n",
      "SVM score 93.6\n",
      "/7-30-3\n",
      "SVM score 88.8\n",
      "/7-35-3\n",
      "SVM score 98.0\n",
      "/7-40-3\n",
      "SVM score 97.4\n",
      "/7-45-3\n",
      "SVM score 98.8\n",
      "/7-50-3\n",
      "SVM score 99.2\n",
      "/8-5-3\n",
      "SVM score 58.8\n",
      "/8-10-3\n",
      "SVM score 85.8\n",
      "/8-15-3\n",
      "SVM score 85.6\n",
      "/8-20-3\n",
      "SVM score 91.8\n",
      "/8-25-3\n",
      "SVM score 95.6\n",
      "/8-30-3\n",
      "SVM score 98.2\n",
      "/8-35-3\n",
      "SVM score 98.4\n",
      "/8-40-3\n",
      "SVM score 98.8\n",
      "/8-45-3\n",
      "SVM score 96.6\n",
      "/8-50-3\n",
      "SVM score 98.6\n",
      "/9-5-3\n",
      "SVM score 63.0\n",
      "/9-10-3\n",
      "SVM score 81.8\n",
      "/9-15-3\n",
      "SVM score 89.8\n",
      "/9-20-3\n",
      "SVM score 94.2\n",
      "/9-25-3\n",
      "SVM score 98.4\n",
      "/9-30-3\n",
      "SVM score 97.0\n",
      "/9-35-3\n",
      "SVM score 98.6\n",
      "/9-40-3\n",
      "SVM score 99.2\n",
      "/9-45-3\n",
      "SVM score 98.6\n",
      "/9-50-3\n",
      "SVM score 98.6\n",
      "/10-5-3\n",
      "SVM score 63.6\n",
      "/10-10-3\n",
      "SVM score 91.2\n",
      "/10-15-3\n",
      "SVM score 91.4\n",
      "/10-20-3\n",
      "SVM score 95.6\n",
      "/10-25-3\n",
      "SVM score 97.0\n",
      "/10-30-3\n",
      "SVM score 98.6\n",
      "/10-35-3\n",
      "SVM score 96.4\n",
      "/10-40-3\n",
      "SVM score 98.8\n",
      "/10-45-3\n",
      "SVM score 99.2\n",
      "/10-50-3\n",
      "SVM score 98.0\n"
     ]
    }
   ],
   "source": [
    "for spatial_index, Nspatial_clusters in enumerate(spatial_clustering_collection):\n",
    "    for time_index, Ntime_clusters in enumerate(time_clustering_collection):\n",
    "        run_name = '/low-resolution'\n",
    "        parameters_string = '/' + str(Nspatial_clusters)\n",
    "        parameters_string += '-' + str(Ntime_clusters)\n",
    "        parameters_string += '-' + str(Nembedding)\n",
    "\n",
    "        nexa = f[run_name + parameters_string]\n",
    "\n",
    "        # Now we load the time and the code vectors\n",
    "        code_vectors = nexa['code-vectors']\n",
    "        code_vectors_distance = nexa['code-vectors-distance']\n",
    "        code_vectors_softmax = nexa['code-vectors-softmax']\n",
    "        code_vectors_winner = nexa['code-vectors-winner']\n",
    "\n",
    "        # Make prediction with scikit-learn\n",
    "\n",
    "        X = code_vectors_winner[:(N - delay)]\n",
    "        y = letters_sequence[delay:N]\n",
    "        X_train, X_test, y_train, y_test = cross_validation.train_test_split(X, y, test_size=0.10)\n",
    "        clf = svm.SVC(C=1.0, cache_size=200, kernel='linear')\n",
    "        clf.fit(X_train, y_train)\n",
    "        score = clf.score(X_test, y_test) * 100.0\n",
    "        print(parameters_string)\n",
    "        print('SVM score', score)\n",
    "        accuracy[time_index, spatial_index] = score"
   ]
  },
  {
   "cell_type": "markdown",
   "metadata": {},
   "source": [
    "#### Plot the result"
   ]
  },
  {
   "cell_type": "code",
   "execution_count": 5,
   "metadata": {
    "collapsed": false
   },
   "outputs": [
    {
     "data": {
      "text/plain": [
       "<matplotlib.text.Text at 0x7fcc708f2358>"
      ]
     },
     "execution_count": 5,
     "metadata": {},
     "output_type": "execute_result"
    },
    {
     "data": {
      "image/png": "[encoded data removed]",
      "text/plain": [
       "<matplotlib.figure.Figure at 0x7fcc70b58630>"
      ]
     },
     "metadata": {},
     "output_type": "display_data"
    }
   ],
   "source": [
    "import matplotlib.pyplot as plt\n",
    "import matplotlib.gridspec as gridspec\n",
    "%matplotlib inline\n",
    "\n",
    "colormap = 'Blues'\n",
    "origin = 'lower'\n",
    "interpolation = 'none'\n",
    "\n",
    "gs = gridspec.GridSpec(2, 2)\n",
    "fig = plt.figure(figsize=(12, 9))\n",
    "ax = plt.subplot(gs[:, :])\n",
    "im = ax.imshow(accuracy, origin=origin, interpolation=interpolation, aspect='auto',\n",
    "              extent=[0, Ntime_clusters, 0, Nspatial_clusters], vmin=0, vmax=100,\n",
    "                  cmap=colormap)\n",
    "fig.colorbar(im)\n",
    "ax.set_xlabel('Data Clusters')\n",
    "ax.set_ylabel('Spatio Temporal Clusters')\n",
    "ax.set_title('Accuracy as a function of Nexa parameters')"
   ]
  },
  {
   "cell_type": "markdown",
   "metadata": {},
   "source": [
    "#### Now with seaborn"
   ]
  },
  {
   "cell_type": "code",
   "execution_count": 9,
   "metadata": {
    "collapsed": false
   },
   "outputs": [
    {
     "name": "stderr",
     "output_type": "stream",
     "text": [
      "/home/heberto/miniconda/envs/nexa/lib/python3.5/site-packages/matplotlib/__init__.py:872: UserWarning: axes.color_cycle is deprecated and replaced with axes.prop_cycle; please use the latter.\n",
      "  warnings.warn(self.msg_depr % (key, alt_key))\n"
     ]
    },
    {
     "data": {
      "text/plain": [
       "<matplotlib.text.Text at 0x7fcc6a7689e8>"
      ]
     },
     "execution_count": 9,
     "metadata": {},
     "output_type": "execute_result"
    },
    {
     "data": {
      "image/png": "[encoded data removed]",
      "text/plain": [
       "<matplotlib.figure.Figure at 0x7fcc6addcb38>"
      ]
     },
     "metadata": {},
     "output_type": "display_data"
    }
   ],
   "source": [
    "import matplotlib.pyplot as plt\n",
    "import matplotlib.gridspec as gridspec\n",
    "import seaborn as sns\n",
    "sns.set(rc={'image.cmap': 'inferno'})\n",
    "%matplotlib inline\n",
    "\n",
    "gs = gridspec.GridSpec(2, 2)\n",
    "fig = plt.figure(figsize=(12, 9))\n",
    "ax = plt.subplot(gs[:, :])\n",
    "im = ax.imshow(accuracy, origin='lower', interpolation='none', aspect='auto',\n",
    "          extent=[0, Ntime_clusters, 0, Nspatial_clusters], vmin=0, vmax=100)\n",
    "fig.colorbar(im)\n",
    "ax.set_xlabel('Data Clusters')\n",
    "ax.set_ylabel('Spatio Temporal Clusters')\n",
    "ax.set_title('Accuracy as a function of Nexa parameters')"
   ]
  },
  {
   "cell_type": "code",
   "execution_count": null,
   "metadata": {
    "collapsed": true
   },
   "outputs": [],
   "source": []
  }
 ],
 "metadata": {
  "kernelspec": {
   "display_name": "Python 3",
   "language": "python",
   "name": "python3"
  },
  "language_info": {
   "codemirror_mode": {
    "name": "ipython",
    "version": 3
   },
   "file_extension": ".py",
   "mimetype": "text/x-python",
   "name": "python",
   "nbconvert_exporter": "python",
   "pygments_lexer": "ipython3",
   "version": "3.5.1"
  }
 },
 "nbformat": 4,
 "nbformat_minor": 0
}
