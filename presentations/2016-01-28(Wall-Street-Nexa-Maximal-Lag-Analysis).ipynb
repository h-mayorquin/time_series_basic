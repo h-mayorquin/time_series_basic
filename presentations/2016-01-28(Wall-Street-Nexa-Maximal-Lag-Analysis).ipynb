{
 "cells": [
  {
   "cell_type": "markdown",
   "metadata": {},
   "source": [
    "# Maximal lag analysis with Nexa. \n",
    "In this notebook we analyse how far in the future we can predict the next letter with the representations created from Nexa when we vary the maximal lag. "
   ]
  },
  {
   "cell_type": "code",
   "execution_count": 1,
   "metadata": {
    "collapsed": false
   },
   "outputs": [
    {
     "name": "stderr",
     "output_type": "stream",
     "text": [
      "/home/heberto/miniconda/envs/nexa/lib/python3.5/site-packages/matplotlib/__init__.py:872: UserWarning: axes.color_cycle is deprecated and replaced with axes.prop_cycle; please use the latter.\n",
      "  warnings.warn(self.msg_depr % (key, alt_key))\n"
     ]
    }
   ],
   "source": [
    "import numpy as np\n",
    "import h5py\n",
    "from sklearn import svm, cross_validation\n",
    "from sklearn.naive_bayes import MultinomialNB\n",
    "\n",
    "import matplotlib.pyplot as plt\n",
    "import seaborn as sns\n",
    "%matplotlib inline"
   ]
  },
  {
   "cell_type": "markdown",
   "metadata": {},
   "source": [
    "#### Load all the data"
   ]
  },
  {
   "cell_type": "code",
   "execution_count": 2,
   "metadata": {
    "collapsed": false
   },
   "outputs": [],
   "source": [
    "# First we load the file \n",
    "file_location = '../results_database/text_wall_street_big.hdf5'\n",
    "f = h5py.File(file_location, 'r')\n",
    "\n",
    "# Now we need to get the letters and align them\n",
    "text_directory = '../data/wall_street_letters.npy'\n",
    "letters_sequence = np.load(text_directory)\n",
    "Nletters = len(letters_sequence)\n",
    "symbols = set(letters_sequence)\n",
    "\n",
    "# Load the particular example\n",
    "Nspatial_clusters = 8\n",
    "Ntime_clusters = 40\n",
    "Nembedding = 3\n",
    "\n",
    "parameters_string = '/' + str(Nspatial_clusters)\n",
    "parameters_string += '-' + str(Ntime_clusters)\n",
    "parameters_string += '-' + str(Nembedding)"
   ]
  },
  {
   "cell_type": "markdown",
   "metadata": {},
   "source": [
    "## Latency analysis"
   ]
  },
  {
   "cell_type": "code",
   "execution_count": 10,
   "metadata": {
    "collapsed": true
   },
   "outputs": [],
   "source": [
    "# Set the parameters for the simulation\n",
    "maximal_lags = np.arange(8, 21, 3)\n",
    "# Run the delay analysis\n",
    "N = 50000\n",
    "delays = np.arange(0, 25, 1)\n",
    "accuracy_matrix = np.zeros((maximal_lags.size, delays.size))"
   ]
  },
  {
   "cell_type": "code",
   "execution_count": null,
   "metadata": {
    "collapsed": false
   },
   "outputs": [],
   "source": [
    "for maximal_lag_index, maximal_lag in enumerate(maximal_lags):\n",
    "    # Extract the appropriate database\n",
    "    run_name = '/low-resolution' + str(maximal_lag)\n",
    "    nexa = f[run_name + parameters_string]\n",
    "\n",
    "    # Now we load the time and the code vectors\n",
    "    time = nexa['time']\n",
    "    code_vectors = nexa['code-vectors']\n",
    "    code_vectors_distance = nexa['code-vectors-distance']\n",
    "    code_vectors_softmax = nexa['code-vectors-softmax']\n",
    "    code_vectors_winner = nexa['code-vectors-winner']\n",
    "\n",
    "    for delay_index, delay in enumerate(delays):\n",
    "        X = code_vectors_softmax[:(N - delay)]\n",
    "        y = letters_sequence[delay:N]\n",
    "        X_train, X_test, y_train, y_test = cross_validation.train_test_split(X, y, test_size=0.10)\n",
    "\n",
    "        clf = svm.SVC(C=1.0, cache_size=200, kernel='linear')\n",
    "        clf.fit(X_train, y_train)\n",
    "        score = clf.score(X_test, y_test) * 100.0\n",
    "        accuracy_matrix[maximal_lag_index, delay_index] = score\n",
    "        print('delay_index', delay_index)\n",
    "        print('maximal_lag_index', maximal_lag_index)\n",
    "        print('maximal_lag', maximal_lag)\n",
    "        print('delay', delay)\n",
    "        print('score', score)\n",
    "        print('-------------')\n",
    "\n"
   ]
  },
  {
   "cell_type": "markdown",
   "metadata": {},
   "source": [
    "#### Plot it"
   ]
  },
  {
   "cell_type": "code",
   "execution_count": null,
   "metadata": {
    "collapsed": false
   },
   "outputs": [],
   "source": [
    "fig = plt.figure(figsize=(16, 12))\n",
    "ax = fig.add_subplot(111)\n",
    "for maximal_lag_index in range(maximal_lags.size):\n",
    "    ax.plot(delays, accuracy_matrix[maximal_lag_index, :], 'o-', lw=2, markersize=10,\n",
    "            label=str(maximal_lags[maximal_lag_index]))\n",
    "\n",
    "ax.set_xlabel('Delays')\n",
    "ax.set_ylabel('Accuracy')\n",
    "ax.set_ylim([0, 105])\n",
    "ax.set_title('Latency analysis for different lags')\n",
    "ax.legend()"
   ]
  },
  {
   "cell_type": "code",
   "execution_count": null,
   "metadata": {
    "collapsed": true
   },
   "outputs": [],
   "source": []
  }
 ],
 "metadata": {
  "kernelspec": {
   "display_name": "Python 3",
   "language": "python",
   "name": "python3"
  },
  "language_info": {
   "codemirror_mode": {
    "name": "ipython",
    "version": 3
   },
   "file_extension": ".py",
   "mimetype": "text/x-python",
   "name": "python",
   "nbconvert_exporter": "python",
   "pygments_lexer": "ipython3",
   "version": "3.5.1"
  }
 },
 "nbformat": 4,
 "nbformat_minor": 0
}
